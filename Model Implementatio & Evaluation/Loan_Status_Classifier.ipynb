{
  "nbformat": 4,
  "nbformat_minor": 0,
  "metadata": {
    "colab": {
      "name": "Loan Status Classifier.ipynb",
      "provenance": [],
      "collapsed_sections": []
    },
    "kernelspec": {
      "name": "python3",
      "display_name": "Python 3"
    },
    "language_info": {
      "name": "python"
    }
  },
  "cells": [
    {
      "cell_type": "markdown",
      "metadata": {
        "id": "YYB_0KVTRrkZ"
      },
      "source": [
        "## **Import Dependencies**"
      ]
    },
    {
      "cell_type": "code",
      "metadata": {
        "id": "zOfqdP8UPFgW",
        "colab": {
          "base_uri": "https://localhost:8080/"
        },
        "outputId": "3945075b-59d4-4c38-faf7-f91d31d173e0"
      },
      "source": [
        "import pandas as pd\n",
        "import numpy as np\n",
        "import matplotlib.pyplot as plt\n",
        "%matplotlib inline\n",
        "import seaborn as sns\n",
        "\n",
        "from sklearn.model_selection import train_test_split, cross_val_score, RandomizedSearchCV, GridSearchCV\n",
        "from sklearn.ensemble import RandomForestClassifier, ExtraTreesClassifier\n",
        "from sklearn import svm\n",
        "from sklearn.tree import DecisionTreeClassifier\n",
        "from sklearn.linear_model import LogisticRegression\n",
        "from sklearn.naive_bayes import GaussianNB\n",
        "\n",
        "from sklearn import metrics\n",
        "from sklearn.metrics import confusion_matrix, accuracy_score, recall_score, precision_score, f1_score, plot_roc_curve, roc_auc_score\n",
        "from sklearn.preprocessing import StandardScaler, LabelEncoder\n",
        "from imblearn.over_sampling import SMOTE\n",
        "\n",
        "import warnings\n",
        "warnings.filterwarnings(\"ignore\")"
      ],
      "execution_count": 1,
      "outputs": [
        {
          "output_type": "stream",
          "text": [
            "/usr/local/lib/python3.7/dist-packages/sklearn/externals/six.py:31: FutureWarning: The module is deprecated in version 0.21 and will be removed in version 0.23 since we've dropped support for Python 2.7. Please rely on the official version of six (https://pypi.org/project/six/).\n",
            "  \"(https://pypi.org/project/six/).\", FutureWarning)\n",
            "/usr/local/lib/python3.7/dist-packages/sklearn/utils/deprecation.py:144: FutureWarning: The sklearn.neighbors.base module is  deprecated in version 0.22 and will be removed in version 0.24. The corresponding classes / functions should instead be imported from sklearn.neighbors. Anything that cannot be imported from sklearn.neighbors is now part of the private API.\n",
            "  warnings.warn(message, FutureWarning)\n"
          ],
          "name": "stderr"
        }
      ]
    },
    {
      "cell_type": "markdown",
      "metadata": {
        "id": "E-7dA4D8RzD3"
      },
      "source": [
        "## **Import & Getting Know About The Dataset**"
      ]
    },
    {
      "cell_type": "code",
      "metadata": {
        "colab": {
          "base_uri": "https://localhost:8080/",
          "height": 203
        },
        "id": "ngkmqlmzPgKS",
        "outputId": "604976c1-77d2-4666-e7fe-1e0a4c98d914"
      },
      "source": [
        "df = pd.read_csv(\"/content/drive/MyDrive/Colab Materials/Loan Dataset/train.csv\")\n",
        "df.head()"
      ],
      "execution_count": 2,
      "outputs": [
        {
          "output_type": "execute_result",
          "data": {
            "text/html": [
              "<div>\n",
              "<style scoped>\n",
              "    .dataframe tbody tr th:only-of-type {\n",
              "        vertical-align: middle;\n",
              "    }\n",
              "\n",
              "    .dataframe tbody tr th {\n",
              "        vertical-align: top;\n",
              "    }\n",
              "\n",
              "    .dataframe thead th {\n",
              "        text-align: right;\n",
              "    }\n",
              "</style>\n",
              "<table border=\"1\" class=\"dataframe\">\n",
              "  <thead>\n",
              "    <tr style=\"text-align: right;\">\n",
              "      <th></th>\n",
              "      <th>Loan_ID</th>\n",
              "      <th>Gender</th>\n",
              "      <th>Married</th>\n",
              "      <th>Dependents</th>\n",
              "      <th>Education</th>\n",
              "      <th>Self_Employed</th>\n",
              "      <th>ApplicantIncome</th>\n",
              "      <th>CoapplicantIncome</th>\n",
              "      <th>LoanAmount</th>\n",
              "      <th>Loan_Amount_Term</th>\n",
              "      <th>Credit_History</th>\n",
              "      <th>Property_Area</th>\n",
              "      <th>Loan_Status</th>\n",
              "    </tr>\n",
              "  </thead>\n",
              "  <tbody>\n",
              "    <tr>\n",
              "      <th>0</th>\n",
              "      <td>LP001002</td>\n",
              "      <td>Male</td>\n",
              "      <td>No</td>\n",
              "      <td>0</td>\n",
              "      <td>Graduate</td>\n",
              "      <td>No</td>\n",
              "      <td>5849</td>\n",
              "      <td>0.0</td>\n",
              "      <td>NaN</td>\n",
              "      <td>360.0</td>\n",
              "      <td>1.0</td>\n",
              "      <td>Urban</td>\n",
              "      <td>Y</td>\n",
              "    </tr>\n",
              "    <tr>\n",
              "      <th>1</th>\n",
              "      <td>LP001003</td>\n",
              "      <td>Male</td>\n",
              "      <td>Yes</td>\n",
              "      <td>1</td>\n",
              "      <td>Graduate</td>\n",
              "      <td>No</td>\n",
              "      <td>4583</td>\n",
              "      <td>1508.0</td>\n",
              "      <td>128.0</td>\n",
              "      <td>360.0</td>\n",
              "      <td>1.0</td>\n",
              "      <td>Rural</td>\n",
              "      <td>N</td>\n",
              "    </tr>\n",
              "    <tr>\n",
              "      <th>2</th>\n",
              "      <td>LP001005</td>\n",
              "      <td>Male</td>\n",
              "      <td>Yes</td>\n",
              "      <td>0</td>\n",
              "      <td>Graduate</td>\n",
              "      <td>Yes</td>\n",
              "      <td>3000</td>\n",
              "      <td>0.0</td>\n",
              "      <td>66.0</td>\n",
              "      <td>360.0</td>\n",
              "      <td>1.0</td>\n",
              "      <td>Urban</td>\n",
              "      <td>Y</td>\n",
              "    </tr>\n",
              "    <tr>\n",
              "      <th>3</th>\n",
              "      <td>LP001006</td>\n",
              "      <td>Male</td>\n",
              "      <td>Yes</td>\n",
              "      <td>0</td>\n",
              "      <td>Not Graduate</td>\n",
              "      <td>No</td>\n",
              "      <td>2583</td>\n",
              "      <td>2358.0</td>\n",
              "      <td>120.0</td>\n",
              "      <td>360.0</td>\n",
              "      <td>1.0</td>\n",
              "      <td>Urban</td>\n",
              "      <td>Y</td>\n",
              "    </tr>\n",
              "    <tr>\n",
              "      <th>4</th>\n",
              "      <td>LP001008</td>\n",
              "      <td>Male</td>\n",
              "      <td>No</td>\n",
              "      <td>0</td>\n",
              "      <td>Graduate</td>\n",
              "      <td>No</td>\n",
              "      <td>6000</td>\n",
              "      <td>0.0</td>\n",
              "      <td>141.0</td>\n",
              "      <td>360.0</td>\n",
              "      <td>1.0</td>\n",
              "      <td>Urban</td>\n",
              "      <td>Y</td>\n",
              "    </tr>\n",
              "  </tbody>\n",
              "</table>\n",
              "</div>"
            ],
            "text/plain": [
              "    Loan_ID Gender Married  ... Credit_History Property_Area Loan_Status\n",
              "0  LP001002   Male      No  ...            1.0         Urban           Y\n",
              "1  LP001003   Male     Yes  ...            1.0         Rural           N\n",
              "2  LP001005   Male     Yes  ...            1.0         Urban           Y\n",
              "3  LP001006   Male     Yes  ...            1.0         Urban           Y\n",
              "4  LP001008   Male      No  ...            1.0         Urban           Y\n",
              "\n",
              "[5 rows x 13 columns]"
            ]
          },
          "metadata": {},
          "execution_count": 2
        }
      ]
    },
    {
      "cell_type": "code",
      "metadata": {
        "colab": {
          "base_uri": "https://localhost:8080/"
        },
        "id": "qWwYH4yXYvKO",
        "outputId": "9430bfa0-5cd1-4422-8dd1-d5c50fdd3c52"
      },
      "source": [
        "# check the dataset shape( number of rows & columns)\n",
        "df.shape"
      ],
      "execution_count": 3,
      "outputs": [
        {
          "output_type": "execute_result",
          "data": {
            "text/plain": [
              "(614, 13)"
            ]
          },
          "metadata": {},
          "execution_count": 3
        }
      ]
    },
    {
      "cell_type": "code",
      "metadata": {
        "colab": {
          "base_uri": "https://localhost:8080/"
        },
        "id": "L291mrjt7LU9",
        "outputId": "a46e381a-eb85-4124-96c5-14e0c3ffe10b"
      },
      "source": [
        "#checking data types\n",
        "df.dtypes"
      ],
      "execution_count": 4,
      "outputs": [
        {
          "output_type": "execute_result",
          "data": {
            "text/plain": [
              "Loan_ID               object\n",
              "Gender                object\n",
              "Married               object\n",
              "Dependents            object\n",
              "Education             object\n",
              "Self_Employed         object\n",
              "ApplicantIncome        int64\n",
              "CoapplicantIncome    float64\n",
              "LoanAmount           float64\n",
              "Loan_Amount_Term     float64\n",
              "Credit_History       float64\n",
              "Property_Area         object\n",
              "Loan_Status           object\n",
              "dtype: object"
            ]
          },
          "metadata": {},
          "execution_count": 4
        }
      ]
    },
    {
      "cell_type": "code",
      "metadata": {
        "id": "scglq-_s38du"
      },
      "source": [
        "# remove unwanted columns\n",
        "df.drop(['Loan_ID'],axis=1,inplace=True)"
      ],
      "execution_count": 5,
      "outputs": []
    },
    {
      "cell_type": "markdown",
      "metadata": {
        "id": "l1PwU9jhRbz2"
      },
      "source": [
        "## **Analyse & Visualize The Distribution of Target Variable** "
      ]
    },
    {
      "cell_type": "markdown",
      "metadata": {
        "id": "ZO8KeZ9WS2qf"
      },
      "source": [
        "## **Handle Missing Values**"
      ]
    },
    {
      "cell_type": "code",
      "metadata": {
        "id": "jUGfzrTdFbc3",
        "colab": {
          "base_uri": "https://localhost:8080/"
        },
        "outputId": "3b524eda-7b24-4e79-d5de-0d9a1134130a"
      },
      "source": [
        "#checking for null values\n",
        "df.isnull().sum()"
      ],
      "execution_count": 6,
      "outputs": [
        {
          "output_type": "execute_result",
          "data": {
            "text/plain": [
              "Gender               13\n",
              "Married               3\n",
              "Dependents           15\n",
              "Education             0\n",
              "Self_Employed        32\n",
              "ApplicantIncome       0\n",
              "CoapplicantIncome     0\n",
              "LoanAmount           22\n",
              "Loan_Amount_Term     14\n",
              "Credit_History       50\n",
              "Property_Area         0\n",
              "Loan_Status           0\n",
              "dtype: int64"
            ]
          },
          "metadata": {},
          "execution_count": 6
        }
      ]
    },
    {
      "cell_type": "code",
      "metadata": {
        "colab": {
          "base_uri": "https://localhost:8080/",
          "height": 879
        },
        "id": "RF5AF0qnMNpd",
        "outputId": "6a40350f-dd08-432e-d59f-a1125be8132c"
      },
      "source": [
        "df.hist(figsize=(15,15))\n",
        "plt.show()"
      ],
      "execution_count": 7,
      "outputs": [
        {
          "output_type": "display_data",
          "data": {
            "image/png": "[encoded data removed]",
            "text/plain": [
              "<Figure size 1080x1080 with 6 Axes>"
            ]
          },
          "metadata": {
            "needs_background": "light"
          }
        }
      ]
    },
    {
      "cell_type": "code",
      "metadata": {
        "id": "iyT0MpvPKUCE"
      },
      "source": [
        "# fill missing values of numerical variable by using mean\n",
        "df['LoanAmount'] = df['LoanAmount'].fillna(df['LoanAmount'].median())\n",
        "\n",
        "# loan term shows discrete data but it higher number of categories. therefore in here we handle it as a continues varible\n",
        "df['Loan_Amount_Term'] = df['Loan_Amount_Term'].fillna(df['Loan_Amount_Term'].mode()[0])\n",
        "\n",
        "# fill missing values of categorical variables by using mode\n",
        "df['Credit_History'] = df['Credit_History'].fillna(df['Credit_History'].mode()[0])\n",
        "df['Gender'] = df['Gender'].fillna(df['Gender'].mode()[0])\n",
        "df['Married'] = df['Married'].fillna(df['Married'].mode()[0])\n",
        "df['Dependents'] = df['Dependents'].fillna(df['Dependents'].mode()[0])\n",
        "df['Self_Employed'] = df['Self_Employed'].fillna(df['Self_Employed'].mode()[0])"
      ],
      "execution_count": 8,
      "outputs": []
    },
    {
      "cell_type": "code",
      "metadata": {
        "colab": {
          "base_uri": "https://localhost:8080/"
        },
        "id": "5_R3VAOZ6Mo0",
        "outputId": "b9b69677-6aa5-4842-f6e6-b4147322312e"
      },
      "source": [
        "df['Loan_Status'].value_counts()"
      ],
      "execution_count": 9,
      "outputs": [
        {
          "output_type": "execute_result",
          "data": {
            "text/plain": [
              "Y    422\n",
              "N    192\n",
              "Name: Loan_Status, dtype: int64"
            ]
          },
          "metadata": {},
          "execution_count": 9
        }
      ]
    },
    {
      "cell_type": "code",
      "metadata": {
        "colab": {
          "base_uri": "https://localhost:8080/"
        },
        "id": "RslY3hG4wIku",
        "outputId": "4f8c87c4-3010-403c-dd2a-ab866233632c"
      },
      "source": [
        "#check null values after handled it \n",
        "df.isnull().sum()"
      ],
      "execution_count": 10,
      "outputs": [
        {
          "output_type": "execute_result",
          "data": {
            "text/plain": [
              "Gender               0\n",
              "Married              0\n",
              "Dependents           0\n",
              "Education            0\n",
              "Self_Employed        0\n",
              "ApplicantIncome      0\n",
              "CoapplicantIncome    0\n",
              "LoanAmount           0\n",
              "Loan_Amount_Term     0\n",
              "Credit_History       0\n",
              "Property_Area        0\n",
              "Loan_Status          0\n",
              "dtype: int64"
            ]
          },
          "metadata": {},
          "execution_count": 10
        }
      ]
    },
    {
      "cell_type": "code",
      "metadata": {
        "colab": {
          "base_uri": "https://localhost:8080/",
          "height": 429
        },
        "id": "EF6sx4LH5sWc",
        "outputId": "f0434b2e-4e2b-459d-a397-5e8ef099e812"
      },
      "source": [
        "# visualiza the distribution of dependent variable (Loan Status)\n",
        "plt.figure(figsize=(12,7))\n",
        "\n",
        "df['Loan_Status'].value_counts().plot.pie(autopct='%1.1f%%')\n",
        "centre=plt.Circle((0,0),0.7,fc='white')\n",
        "\n",
        "fig=plt.gcf()\n",
        "fig.gca().add_artist(centre)"
      ],
      "execution_count": 11,
      "outputs": [
        {
          "output_type": "execute_result",
          "data": {
            "text/plain": [
              "<matplotlib.patches.Circle at 0x7fdbae575b90>"
            ]
          },
          "metadata": {},
          "execution_count": 11
        },
        {
          "output_type": "display_data",
          "data": {
            "image/png": "[encoded data removed]",
            "text/plain": [
              "<Figure size 864x504 with 1 Axes>"
            ]
          },
          "metadata": {}
        }
      ]
    },
    {
      "cell_type": "code",
      "metadata": {
        "colab": {
          "base_uri": "https://localhost:8080/",
          "height": 203
        },
        "id": "Zvcx4-3MXpbC",
        "outputId": "9dff094b-b68e-42ea-8a21-c96e54d1dffb"
      },
      "source": [
        "# display first 5 rows of balanced dataset\n",
        "df.sample(5)"
      ],
      "execution_count": 12,
      "outputs": [
        {
          "output_type": "execute_result",
          "data": {
            "text/html": [
              "<div>\n",
              "<style scoped>\n",
              "    .dataframe tbody tr th:only-of-type {\n",
              "        vertical-align: middle;\n",
              "    }\n",
              "\n",
              "    .dataframe tbody tr th {\n",
              "        vertical-align: top;\n",
              "    }\n",
              "\n",
              "    .dataframe thead th {\n",
              "        text-align: right;\n",
              "    }\n",
              "</style>\n",
              "<table border=\"1\" class=\"dataframe\">\n",
              "  <thead>\n",
              "    <tr style=\"text-align: right;\">\n",
              "      <th></th>\n",
              "      <th>Gender</th>\n",
              "      <th>Married</th>\n",
              "      <th>Dependents</th>\n",
              "      <th>Education</th>\n",
              "      <th>Self_Employed</th>\n",
              "      <th>ApplicantIncome</th>\n",
              "      <th>CoapplicantIncome</th>\n",
              "      <th>LoanAmount</th>\n",
              "      <th>Loan_Amount_Term</th>\n",
              "      <th>Credit_History</th>\n",
              "      <th>Property_Area</th>\n",
              "      <th>Loan_Status</th>\n",
              "    </tr>\n",
              "  </thead>\n",
              "  <tbody>\n",
              "    <tr>\n",
              "      <th>272</th>\n",
              "      <td>Male</td>\n",
              "      <td>No</td>\n",
              "      <td>0</td>\n",
              "      <td>Graduate</td>\n",
              "      <td>No</td>\n",
              "      <td>2833</td>\n",
              "      <td>1857.0</td>\n",
              "      <td>126.0</td>\n",
              "      <td>360.0</td>\n",
              "      <td>1.0</td>\n",
              "      <td>Rural</td>\n",
              "      <td>Y</td>\n",
              "    </tr>\n",
              "    <tr>\n",
              "      <th>199</th>\n",
              "      <td>Male</td>\n",
              "      <td>No</td>\n",
              "      <td>0</td>\n",
              "      <td>Graduate</td>\n",
              "      <td>Yes</td>\n",
              "      <td>11000</td>\n",
              "      <td>0.0</td>\n",
              "      <td>83.0</td>\n",
              "      <td>360.0</td>\n",
              "      <td>1.0</td>\n",
              "      <td>Urban</td>\n",
              "      <td>N</td>\n",
              "    </tr>\n",
              "    <tr>\n",
              "      <th>15</th>\n",
              "      <td>Male</td>\n",
              "      <td>No</td>\n",
              "      <td>0</td>\n",
              "      <td>Graduate</td>\n",
              "      <td>No</td>\n",
              "      <td>4950</td>\n",
              "      <td>0.0</td>\n",
              "      <td>125.0</td>\n",
              "      <td>360.0</td>\n",
              "      <td>1.0</td>\n",
              "      <td>Urban</td>\n",
              "      <td>Y</td>\n",
              "    </tr>\n",
              "    <tr>\n",
              "      <th>551</th>\n",
              "      <td>Male</td>\n",
              "      <td>Yes</td>\n",
              "      <td>1</td>\n",
              "      <td>Not Graduate</td>\n",
              "      <td>No</td>\n",
              "      <td>2492</td>\n",
              "      <td>2375.0</td>\n",
              "      <td>128.0</td>\n",
              "      <td>360.0</td>\n",
              "      <td>1.0</td>\n",
              "      <td>Rural</td>\n",
              "      <td>Y</td>\n",
              "    </tr>\n",
              "    <tr>\n",
              "      <th>220</th>\n",
              "      <td>Male</td>\n",
              "      <td>Yes</td>\n",
              "      <td>0</td>\n",
              "      <td>Graduate</td>\n",
              "      <td>No</td>\n",
              "      <td>2221</td>\n",
              "      <td>0.0</td>\n",
              "      <td>60.0</td>\n",
              "      <td>360.0</td>\n",
              "      <td>0.0</td>\n",
              "      <td>Urban</td>\n",
              "      <td>N</td>\n",
              "    </tr>\n",
              "  </tbody>\n",
              "</table>\n",
              "</div>"
            ],
            "text/plain": [
              "    Gender Married Dependents  ... Credit_History Property_Area  Loan_Status\n",
              "272   Male      No          0  ...            1.0         Rural            Y\n",
              "199   Male      No          0  ...            1.0         Urban            N\n",
              "15    Male      No          0  ...            1.0         Urban            Y\n",
              "551   Male     Yes          1  ...            1.0         Rural            Y\n",
              "220   Male     Yes          0  ...            0.0         Urban            N\n",
              "\n",
              "[5 rows x 12 columns]"
            ]
          },
          "metadata": {},
          "execution_count": 12
        }
      ]
    },
    {
      "cell_type": "markdown",
      "metadata": {
        "id": "UQAdGq7x_LYZ"
      },
      "source": [
        "## **Numeric Variable Distribution**"
      ]
    },
    {
      "cell_type": "code",
      "metadata": {
        "colab": {
          "base_uri": "https://localhost:8080/",
          "height": 879
        },
        "id": "8qXwDJHV7g2B",
        "outputId": "e167d605-8127-4306-8cd9-3bf179287f84"
      },
      "source": [
        "df.hist(figsize=(15,15))\n",
        "plt.show()"
      ],
      "execution_count": 13,
      "outputs": [
        {
          "output_type": "display_data",
          "data": {
            "image/png": "[encoded data removed]",
            "text/plain": [
              "<Figure size 1080x1080 with 6 Axes>"
            ]
          },
          "metadata": {
            "needs_background": "light"
          }
        }
      ]
    },
    {
      "cell_type": "markdown",
      "metadata": {
        "id": "LUvh93Y-cv5W"
      },
      "source": [
        "### *Credit history seems to like a categorical variable so we consider as categorical varible for further studies & analysis*"
      ]
    },
    {
      "cell_type": "markdown",
      "metadata": {
        "id": "oZ5m_nd4FOze"
      },
      "source": [
        "## **Identify outliers In More Accurate Way For Numeric Values**"
      ]
    },
    {
      "cell_type": "code",
      "metadata": {
        "colab": {
          "base_uri": "https://localhost:8080/",
          "height": 1000
        },
        "id": "arIT5VjhFOL6",
        "outputId": "2a498d2c-05eb-4ae9-a291-c4e729c25a46"
      },
      "source": [
        "def outliers_check(column):\n",
        "\n",
        "  title = str(column) + \" Box Plot \"\n",
        "  plt.subplots(figsize=(5,5))\n",
        "  sns.boxplot(data=df[str(i)]).set_title(title)\n",
        "  plt.show()\n",
        "\n",
        "for i in df[['ApplicantIncome',\t'CoapplicantIncome',\t'LoanAmount',\t'Loan_Amount_Term']].columns:\n",
        "  \n",
        "    outliers_check(i)"
      ],
      "execution_count": 14,
      "outputs": [
        {
          "output_type": "display_data",
          "data": {
            "image/png": "[encoded data removed]",
            "text/plain": [
              "<Figure size 360x360 with 1 Axes>"
            ]
          },
          "metadata": {
            "needs_background": "light"
          }
        },
        {
          "output_type": "display_data",
          "data": {
            "image/png": "[encoded data removed]",
            "text/plain": [
              "<Figure size 360x360 with 1 Axes>"
            ]
          },
          "metadata": {
            "needs_background": "light"
          }
        },
        {
          "output_type": "display_data",
          "data": {
            "image/png": "[encoded data removed]",
            "text/plain": [
              "<Figure size 360x360 with 1 Axes>"
            ]
          },
          "metadata": {
            "needs_background": "light"
          }
        },
        {
          "output_type": "display_data",
          "data": {
            "image/png": "[encoded data removed]",
            "text/plain": [
              "<Figure size 360x360 with 1 Axes>"
            ]
          },
          "metadata": {
            "needs_background": "light"
          }
        }
      ]
    },
    {
      "cell_type": "code",
      "metadata": {
        "colab": {
          "base_uri": "https://localhost:8080/",
          "height": 203
        },
        "id": "APB45qm472ne",
        "outputId": "4cf7e2e1-bb58-4cf3-8fad-550e1f6a48c2"
      },
      "source": [
        "df.describe().T"
      ],
      "execution_count": 15,
      "outputs": [
        {
          "output_type": "execute_result",
          "data": {
            "text/html": [
              "<div>\n",
              "<style scoped>\n",
              "    .dataframe tbody tr th:only-of-type {\n",
              "        vertical-align: middle;\n",
              "    }\n",
              "\n",
              "    .dataframe tbody tr th {\n",
              "        vertical-align: top;\n",
              "    }\n",
              "\n",
              "    .dataframe thead th {\n",
              "        text-align: right;\n",
              "    }\n",
              "</style>\n",
              "<table border=\"1\" class=\"dataframe\">\n",
              "  <thead>\n",
              "    <tr style=\"text-align: right;\">\n",
              "      <th></th>\n",
              "      <th>count</th>\n",
              "      <th>mean</th>\n",
              "      <th>std</th>\n",
              "      <th>min</th>\n",
              "      <th>25%</th>\n",
              "      <th>50%</th>\n",
              "      <th>75%</th>\n",
              "      <th>max</th>\n",
              "    </tr>\n",
              "  </thead>\n",
              "  <tbody>\n",
              "    <tr>\n",
              "      <th>ApplicantIncome</th>\n",
              "      <td>614.0</td>\n",
              "      <td>5403.459283</td>\n",
              "      <td>6109.041673</td>\n",
              "      <td>150.0</td>\n",
              "      <td>2877.50</td>\n",
              "      <td>3812.5</td>\n",
              "      <td>5795.00</td>\n",
              "      <td>81000.0</td>\n",
              "    </tr>\n",
              "    <tr>\n",
              "      <th>CoapplicantIncome</th>\n",
              "      <td>614.0</td>\n",
              "      <td>1621.245798</td>\n",
              "      <td>2926.248369</td>\n",
              "      <td>0.0</td>\n",
              "      <td>0.00</td>\n",
              "      <td>1188.5</td>\n",
              "      <td>2297.25</td>\n",
              "      <td>41667.0</td>\n",
              "    </tr>\n",
              "    <tr>\n",
              "      <th>LoanAmount</th>\n",
              "      <td>614.0</td>\n",
              "      <td>145.752443</td>\n",
              "      <td>84.107233</td>\n",
              "      <td>9.0</td>\n",
              "      <td>100.25</td>\n",
              "      <td>128.0</td>\n",
              "      <td>164.75</td>\n",
              "      <td>700.0</td>\n",
              "    </tr>\n",
              "    <tr>\n",
              "      <th>Loan_Amount_Term</th>\n",
              "      <td>614.0</td>\n",
              "      <td>342.410423</td>\n",
              "      <td>64.428629</td>\n",
              "      <td>12.0</td>\n",
              "      <td>360.00</td>\n",
              "      <td>360.0</td>\n",
              "      <td>360.00</td>\n",
              "      <td>480.0</td>\n",
              "    </tr>\n",
              "    <tr>\n",
              "      <th>Credit_History</th>\n",
              "      <td>614.0</td>\n",
              "      <td>0.855049</td>\n",
              "      <td>0.352339</td>\n",
              "      <td>0.0</td>\n",
              "      <td>1.00</td>\n",
              "      <td>1.0</td>\n",
              "      <td>1.00</td>\n",
              "      <td>1.0</td>\n",
              "    </tr>\n",
              "  </tbody>\n",
              "</table>\n",
              "</div>"
            ],
            "text/plain": [
              "                   count         mean          std  ...     50%      75%      max\n",
              "ApplicantIncome    614.0  5403.459283  6109.041673  ...  3812.5  5795.00  81000.0\n",
              "CoapplicantIncome  614.0  1621.245798  2926.248369  ...  1188.5  2297.25  41667.0\n",
              "LoanAmount         614.0   145.752443    84.107233  ...   128.0   164.75    700.0\n",
              "Loan_Amount_Term   614.0   342.410423    64.428629  ...   360.0   360.00    480.0\n",
              "Credit_History     614.0     0.855049     0.352339  ...     1.0     1.00      1.0\n",
              "\n",
              "[5 rows x 8 columns]"
            ]
          },
          "metadata": {},
          "execution_count": 15
        }
      ]
    },
    {
      "cell_type": "markdown",
      "metadata": {
        "id": "oouQa9-V_BqV"
      },
      "source": [
        "## **Categorical variable Analysis**"
      ]
    },
    {
      "cell_type": "code",
      "metadata": {
        "colab": {
          "base_uri": "https://localhost:8080/",
          "height": 543
        },
        "id": "rnj0NnZP9Yjb",
        "outputId": "839c768b-c376-4868-c54d-19c870a62bdc"
      },
      "source": [
        "plt.figure(figsize=(10,8.5))\n",
        "sns.countplot(df['Property_Area'])\n",
        "plt.title(\"Property Area\",size=15)\n",
        "plt.show()"
      ],
      "execution_count": 16,
      "outputs": [
        {
          "output_type": "display_data",
          "data": {
            "image/png": "[encoded data removed]",
            "text/plain": [
              "<Figure size 720x612 with 1 Axes>"
            ]
          },
          "metadata": {
            "needs_background": "light"
          }
        }
      ]
    },
    {
      "cell_type": "code",
      "metadata": {
        "colab": {
          "base_uri": "https://localhost:8080/",
          "height": 543
        },
        "id": "9MwpBOyp9vu0",
        "outputId": "1fdeee3f-2588-4197-c8b5-8c76ac7a8045"
      },
      "source": [
        "plt.figure(figsize=(10,8.5))\n",
        "sns.countplot(df['Self_Employed'])\n",
        "plt.title(\"Self Employ Status\",size=15)\n",
        "plt.show()"
      ],
      "execution_count": 17,
      "outputs": [
        {
          "output_type": "display_data",
          "data": {
            "image/png": "[encoded data removed]",
            "text/plain": [
              "<Figure size 720x612 with 1 Axes>"
            ]
          },
          "metadata": {
            "needs_background": "light"
          }
        }
      ]
    },
    {
      "cell_type": "code",
      "metadata": {
        "colab": {
          "base_uri": "https://localhost:8080/",
          "height": 542
        },
        "id": "W0SyFO5o94_x",
        "outputId": "a63fa27b-7779-4389-f1d3-78f5b6b279ab"
      },
      "source": [
        "\tplt.figure(figsize=(10,8.5))\n",
        "sns.countplot(df['Education'])\n",
        "plt.title(\"Education\",size=15)\n",
        "plt.show()"
      ],
      "execution_count": 18,
      "outputs": [
        {
          "output_type": "display_data",
          "data": {
            "image/png": "[encoded data removed]",
            "text/plain": [
              "<Figure size 720x612 with 1 Axes>"
            ]
          },
          "metadata": {
            "needs_background": "light"
          }
        }
      ]
    },
    {
      "cell_type": "code",
      "metadata": {
        "colab": {
          "base_uri": "https://localhost:8080/",
          "height": 542
        },
        "id": "km4iD24I-Oa-",
        "outputId": "3373ff81-b6fb-45c2-c673-b0cf94b7012c"
      },
      "source": [
        "plt.figure(figsize=(10,8.5))\n",
        "sns.countplot(df['Married'])\n",
        "plt.title(\"Matial Status\",size=15)\n",
        "plt.show()"
      ],
      "execution_count": 19,
      "outputs": [
        {
          "output_type": "display_data",
          "data": {
            "image/png": "[encoded data removed]",
            "text/plain": [
              "<Figure size 720x612 with 1 Axes>"
            ]
          },
          "metadata": {
            "needs_background": "light"
          }
        }
      ]
    },
    {
      "cell_type": "code",
      "metadata": {
        "colab": {
          "base_uri": "https://localhost:8080/",
          "height": 542
        },
        "id": "vMbDwpRW-Q7l",
        "outputId": "7bb397a8-f7f7-4fcb-fa59-296a752199ea"
      },
      "source": [
        "plt.figure(figsize=(10,8.5))\n",
        "sns.countplot(df['Gender'])\n",
        "plt.title(\"Gender\",size=15)\n",
        "plt.show()"
      ],
      "execution_count": 20,
      "outputs": [
        {
          "output_type": "display_data",
          "data": {
            "image/png": "[encoded data removed]",
            "text/plain": [
              "<Figure size 720x612 with 1 Axes>"
            ]
          },
          "metadata": {
            "needs_background": "light"
          }
        }
      ]
    },
    {
      "cell_type": "code",
      "metadata": {
        "colab": {
          "base_uri": "https://localhost:8080/",
          "height": 542
        },
        "id": "UFhJLHgsLobA",
        "outputId": "42f59368-2071-4913-c454-840dc6018380"
      },
      "source": [
        "plt.figure(figsize=(10,8.5))\n",
        "sns.countplot(df['Dependents'])\n",
        "plt.title(\"Dependents\",size=15)\n",
        "plt.show()"
      ],
      "execution_count": 21,
      "outputs": [
        {
          "output_type": "display_data",
          "data": {
            "image/png": "[encoded data removed]",
            "text/plain": [
              "<Figure size 720x612 with 1 Axes>"
            ]
          },
          "metadata": {
            "needs_background": "light"
          }
        }
      ]
    },
    {
      "cell_type": "code",
      "metadata": {
        "colab": {
          "base_uri": "https://localhost:8080/",
          "height": 543
        },
        "id": "pRoGwJmwcWeS",
        "outputId": "c6e4adf8-eee3-40af-f2e1-99cc15a29aeb"
      },
      "source": [
        "plt.figure(figsize=(10,8.5))\n",
        "sns.countplot(df['Credit_History'])\n",
        "plt.title(\"Credit History\",size=15)\n",
        "plt.show()"
      ],
      "execution_count": 22,
      "outputs": [
        {
          "output_type": "display_data",
          "data": {
            "image/png": "[encoded data removed]",
            "text/plain": [
              "<Figure size 720x612 with 1 Axes>"
            ]
          },
          "metadata": {
            "needs_background": "light"
          }
        }
      ]
    },
    {
      "cell_type": "code",
      "metadata": {
        "colab": {
          "base_uri": "https://localhost:8080/"
        },
        "id": "t0dYSQnPl4i4",
        "outputId": "de323fdb-4c9b-420e-a198-8c1063a6c773"
      },
      "source": [
        "df['Credit_History'].value_counts()"
      ],
      "execution_count": 23,
      "outputs": [
        {
          "output_type": "execute_result",
          "data": {
            "text/plain": [
              "1.0    525\n",
              "0.0     89\n",
              "Name: Credit_History, dtype: int64"
            ]
          },
          "metadata": {},
          "execution_count": 23
        }
      ]
    },
    {
      "cell_type": "markdown",
      "metadata": {
        "id": "2gmRQCfTGlcK"
      },
      "source": [
        "## **Exploratory Data Analysis**"
      ]
    },
    {
      "cell_type": "markdown",
      "metadata": {
        "id": "bx1aZB_OHRqz"
      },
      "source": [
        "---"
      ]
    },
    {
      "cell_type": "code",
      "metadata": {
        "colab": {
          "base_uri": "https://localhost:8080/",
          "height": 203
        },
        "id": "HzMiK2iPLVYG",
        "outputId": "53ea3689-4103-40d5-ec50-58cc425292ca"
      },
      "source": [
        "df.head()"
      ],
      "execution_count": 24,
      "outputs": [
        {
          "output_type": "execute_result",
          "data": {
            "text/html": [
              "<div>\n",
              "<style scoped>\n",
              "    .dataframe tbody tr th:only-of-type {\n",
              "        vertical-align: middle;\n",
              "    }\n",
              "\n",
              "    .dataframe tbody tr th {\n",
              "        vertical-align: top;\n",
              "    }\n",
              "\n",
              "    .dataframe thead th {\n",
              "        text-align: right;\n",
              "    }\n",
              "</style>\n",
              "<table border=\"1\" class=\"dataframe\">\n",
              "  <thead>\n",
              "    <tr style=\"text-align: right;\">\n",
              "      <th></th>\n",
              "      <th>Gender</th>\n",
              "      <th>Married</th>\n",
              "      <th>Dependents</th>\n",
              "      <th>Education</th>\n",
              "      <th>Self_Employed</th>\n",
              "      <th>ApplicantIncome</th>\n",
              "      <th>CoapplicantIncome</th>\n",
              "      <th>LoanAmount</th>\n",
              "      <th>Loan_Amount_Term</th>\n",
              "      <th>Credit_History</th>\n",
              "      <th>Property_Area</th>\n",
              "      <th>Loan_Status</th>\n",
              "    </tr>\n",
              "  </thead>\n",
              "  <tbody>\n",
              "    <tr>\n",
              "      <th>0</th>\n",
              "      <td>Male</td>\n",
              "      <td>No</td>\n",
              "      <td>0</td>\n",
              "      <td>Graduate</td>\n",
              "      <td>No</td>\n",
              "      <td>5849</td>\n",
              "      <td>0.0</td>\n",
              "      <td>128.0</td>\n",
              "      <td>360.0</td>\n",
              "      <td>1.0</td>\n",
              "      <td>Urban</td>\n",
              "      <td>Y</td>\n",
              "    </tr>\n",
              "    <tr>\n",
              "      <th>1</th>\n",
              "      <td>Male</td>\n",
              "      <td>Yes</td>\n",
              "      <td>1</td>\n",
              "      <td>Graduate</td>\n",
              "      <td>No</td>\n",
              "      <td>4583</td>\n",
              "      <td>1508.0</td>\n",
              "      <td>128.0</td>\n",
              "      <td>360.0</td>\n",
              "      <td>1.0</td>\n",
              "      <td>Rural</td>\n",
              "      <td>N</td>\n",
              "    </tr>\n",
              "    <tr>\n",
              "      <th>2</th>\n",
              "      <td>Male</td>\n",
              "      <td>Yes</td>\n",
              "      <td>0</td>\n",
              "      <td>Graduate</td>\n",
              "      <td>Yes</td>\n",
              "      <td>3000</td>\n",
              "      <td>0.0</td>\n",
              "      <td>66.0</td>\n",
              "      <td>360.0</td>\n",
              "      <td>1.0</td>\n",
              "      <td>Urban</td>\n",
              "      <td>Y</td>\n",
              "    </tr>\n",
              "    <tr>\n",
              "      <th>3</th>\n",
              "      <td>Male</td>\n",
              "      <td>Yes</td>\n",
              "      <td>0</td>\n",
              "      <td>Not Graduate</td>\n",
              "      <td>No</td>\n",
              "      <td>2583</td>\n",
              "      <td>2358.0</td>\n",
              "      <td>120.0</td>\n",
              "      <td>360.0</td>\n",
              "      <td>1.0</td>\n",
              "      <td>Urban</td>\n",
              "      <td>Y</td>\n",
              "    </tr>\n",
              "    <tr>\n",
              "      <th>4</th>\n",
              "      <td>Male</td>\n",
              "      <td>No</td>\n",
              "      <td>0</td>\n",
              "      <td>Graduate</td>\n",
              "      <td>No</td>\n",
              "      <td>6000</td>\n",
              "      <td>0.0</td>\n",
              "      <td>141.0</td>\n",
              "      <td>360.0</td>\n",
              "      <td>1.0</td>\n",
              "      <td>Urban</td>\n",
              "      <td>Y</td>\n",
              "    </tr>\n",
              "  </tbody>\n",
              "</table>\n",
              "</div>"
            ],
            "text/plain": [
              "  Gender Married Dependents  ... Credit_History Property_Area  Loan_Status\n",
              "0   Male      No          0  ...            1.0         Urban            Y\n",
              "1   Male     Yes          1  ...            1.0         Rural            N\n",
              "2   Male     Yes          0  ...            1.0         Urban            Y\n",
              "3   Male     Yes          0  ...            1.0         Urban            Y\n",
              "4   Male      No          0  ...            1.0         Urban            Y\n",
              "\n",
              "[5 rows x 12 columns]"
            ]
          },
          "metadata": {},
          "execution_count": 24
        }
      ]
    },
    {
      "cell_type": "markdown",
      "metadata": {
        "id": "oJk4oD9JGuy3"
      },
      "source": [
        "> ## Loan staus vs **Gender**"
      ]
    },
    {
      "cell_type": "code",
      "metadata": {
        "colab": {
          "base_uri": "https://localhost:8080/",
          "height": 525
        },
        "id": "dFmlnvdEJ6V4",
        "outputId": "a6f2e0a4-68ee-4595-8ca3-c8bc02d6d859"
      },
      "source": [
        "plt.figure(figsize=(10,8.5))\n",
        "sns.countplot(x='Loan_Status',hue='Gender',data=df)\n",
        "plt.show()"
      ],
      "execution_count": 25,
      "outputs": [
        {
          "output_type": "display_data",
          "data": {
            "image/png": "[encoded data removed]",
            "text/plain": [
              "<Figure size 720x612 with 1 Axes>"
            ]
          },
          "metadata": {
            "needs_background": "light"
          }
        }
      ]
    },
    {
      "cell_type": "markdown",
      "metadata": {
        "id": "5L26MhCbGytv"
      },
      "source": [
        "> ## Loan staus vs **Matial Status**"
      ]
    },
    {
      "cell_type": "code",
      "metadata": {
        "colab": {
          "base_uri": "https://localhost:8080/",
          "height": 525
        },
        "id": "Rwq1onoDLO9s",
        "outputId": "fce0b1f9-1dc2-4ded-8c43-523283865d33"
      },
      "source": [
        "plt.figure(figsize=(10,8.5))\n",
        "sns.countplot(x='Loan_Status',hue='Married',data=df)\n",
        "plt.show()"
      ],
      "execution_count": 26,
      "outputs": [
        {
          "output_type": "display_data",
          "data": {
            "image/png": "[encoded data removed]",
            "text/plain": [
              "<Figure size 720x612 with 1 Axes>"
            ]
          },
          "metadata": {
            "needs_background": "light"
          }
        }
      ]
    },
    {
      "cell_type": "markdown",
      "metadata": {
        "id": "_8kVlemJGyTK"
      },
      "source": [
        "> ## Loan staus vs **Dependents**"
      ]
    },
    {
      "cell_type": "code",
      "metadata": {
        "colab": {
          "base_uri": "https://localhost:8080/",
          "height": 525
        },
        "id": "wTXq_72gNhv6",
        "outputId": "a1f54f72-e573-429a-e989-fc70db09d69c"
      },
      "source": [
        "plt.figure(figsize=(10,8.5))\n",
        "sns.countplot(x='Loan_Status',hue='Dependents',data=df)\n",
        "plt.show()"
      ],
      "execution_count": 27,
      "outputs": [
        {
          "output_type": "display_data",
          "data": {
            "image/png": "[encoded data removed]",
            "text/plain": [
              "<Figure size 720x612 with 1 Axes>"
            ]
          },
          "metadata": {
            "needs_background": "light"
          }
        }
      ]
    },
    {
      "cell_type": "markdown",
      "metadata": {
        "id": "RPPGqJ-KHDST"
      },
      "source": [
        "> ## Loan staus vs **Employed Status**"
      ]
    },
    {
      "cell_type": "code",
      "metadata": {
        "colab": {
          "base_uri": "https://localhost:8080/",
          "height": 525
        },
        "id": "7QEWzrmjN6M_",
        "outputId": "5da4bb80-1eb9-4890-ae62-a7d405316167"
      },
      "source": [
        "plt.figure(figsize=(10,8.5))\n",
        "sns.countplot(x='Loan_Status',hue='Self_Employed',data=df)\n",
        "plt.show()"
      ],
      "execution_count": 28,
      "outputs": [
        {
          "output_type": "display_data",
          "data": {
            "image/png": "[encoded data removed]",
            "text/plain": [
              "<Figure size 720x612 with 1 Axes>"
            ]
          },
          "metadata": {
            "needs_background": "light"
          }
        }
      ]
    },
    {
      "cell_type": "markdown",
      "metadata": {
        "id": "8zfav2CdHCyl"
      },
      "source": [
        "> ## Loan staus vs **Property Status**"
      ]
    },
    {
      "cell_type": "code",
      "metadata": {
        "colab": {
          "base_uri": "https://localhost:8080/",
          "height": 525
        },
        "id": "tKcsYgNzOc_g",
        "outputId": "5dfd651a-0f51-449c-ec1b-9477aea4124c"
      },
      "source": [
        "plt.figure(figsize=(10,8.5))\n",
        "sns.countplot(x='Loan_Status',hue='Property_Area',data=df)\n",
        "plt.show()"
      ],
      "execution_count": 29,
      "outputs": [
        {
          "output_type": "display_data",
          "data": {
            "image/png": "[encoded data removed]",
            "text/plain": [
              "<Figure size 720x612 with 1 Axes>"
            ]
          },
          "metadata": {
            "needs_background": "light"
          }
        }
      ]
    },
    {
      "cell_type": "markdown",
      "metadata": {
        "id": "hZQy7bEiPrHI"
      },
      "source": [
        "> ## Loan Status vs **Education Status**"
      ]
    },
    {
      "cell_type": "code",
      "metadata": {
        "colab": {
          "base_uri": "https://localhost:8080/",
          "height": 525
        },
        "id": "5aofNwztP294",
        "outputId": "e00b7289-d1cb-48f6-8e34-96ea19c7c0e7"
      },
      "source": [
        "plt.figure(figsize=(10,8.5))\n",
        "sns.countplot(x='Loan_Status',hue='Education',data=df)\n",
        "plt.show()"
      ],
      "execution_count": 30,
      "outputs": [
        {
          "output_type": "display_data",
          "data": {
            "image/png": "[encoded data removed]",
            "text/plain": [
              "<Figure size 720x612 with 1 Axes>"
            ]
          },
          "metadata": {
            "needs_background": "light"
          }
        }
      ]
    },
    {
      "cell_type": "markdown",
      "metadata": {
        "id": "F1VzEsgjIrBm"
      },
      "source": [
        "> ## Loan staus vs **Credit History**"
      ]
    },
    {
      "cell_type": "code",
      "metadata": {
        "colab": {
          "base_uri": "https://localhost:8080/",
          "height": 525
        },
        "id": "kbMcGaXhcVnz",
        "outputId": "587b58e8-3c7d-496e-b4bf-77baff26be32"
      },
      "source": [
        "plt.figure(figsize=(10,8.5))\n",
        "sns.countplot(x='Loan_Status',hue='Credit_History',data=df)\n",
        "plt.show()"
      ],
      "execution_count": 31,
      "outputs": [
        {
          "output_type": "display_data",
          "data": {
            "image/png": "[encoded data removed]",
            "text/plain": [
              "<Figure size 720x612 with 1 Axes>"
            ]
          },
          "metadata": {
            "needs_background": "light"
          }
        }
      ]
    },
    {
      "cell_type": "markdown",
      "metadata": {
        "id": "lQUFO7HlIq13"
      },
      "source": [
        "> ## Loan staus vs **Applicant Income**"
      ]
    },
    {
      "cell_type": "code",
      "metadata": {
        "colab": {
          "base_uri": "https://localhost:8080/",
          "height": 512
        },
        "id": "ih4a9BR0caOP",
        "outputId": "ded063dc-1fa3-43b4-8f28-7f44288eba33"
      },
      "source": [
        "pl=sns.relplot(x='ApplicantIncome',y='ApplicantIncome',data=df,hue='Loan_Status',style='Loan_Status')\n",
        "pl.fig.set_size_inches(10,7)\n",
        "plt.show()"
      ],
      "execution_count": 32,
      "outputs": [
        {
          "output_type": "display_data",
          "data": {
            "image/png": "[encoded data removed]",
            "text/plain": [
              "<Figure size 720x504 with 1 Axes>"
            ]
          },
          "metadata": {
            "needs_background": "light"
          }
        }
      ]
    },
    {
      "cell_type": "markdown",
      "metadata": {
        "id": "MU1Kp4f9IqrO"
      },
      "source": [
        "> ## Loan staus vs **Co-Applicant Income**"
      ]
    },
    {
      "cell_type": "code",
      "metadata": {
        "colab": {
          "base_uri": "https://localhost:8080/",
          "height": 512
        },
        "id": "VUVoQGZFcb5z",
        "outputId": "1cbed4b7-f19e-46f8-d991-fdc3a0af1cd2"
      },
      "source": [
        "pl=sns.relplot(x='CoapplicantIncome',y='CoapplicantIncome',data=df,hue='Loan_Status',style='Loan_Status')\n",
        "pl.fig.set_size_inches(10,7)\n",
        "plt.show()"
      ],
      "execution_count": 33,
      "outputs": [
        {
          "output_type": "display_data",
          "data": {
            "image/png": "[encoded data removed]",
            "text/plain": [
              "<Figure size 720x504 with 1 Axes>"
            ]
          },
          "metadata": {
            "needs_background": "light"
          }
        }
      ]
    },
    {
      "cell_type": "markdown",
      "metadata": {
        "id": "cCFQY6PSIqY7"
      },
      "source": [
        "> ## Loan staus vs **Loan Amount**"
      ]
    },
    {
      "cell_type": "code",
      "metadata": {
        "colab": {
          "base_uri": "https://localhost:8080/",
          "height": 512
        },
        "id": "zMMtE5lrcctc",
        "outputId": "4083ca29-5dab-47a7-caa7-a94ae5c83083"
      },
      "source": [
        "pl=sns.relplot(x='LoanAmount',y='LoanAmount',data=df,hue='Loan_Status',style='Loan_Status')\n",
        "pl.fig.set_size_inches(10,7)\n",
        "plt.show()"
      ],
      "execution_count": 34,
      "outputs": [
        {
          "output_type": "display_data",
          "data": {
            "image/png": "[encoded data removed]",
            "text/plain": [
              "<Figure size 720x504 with 1 Axes>"
            ]
          },
          "metadata": {
            "needs_background": "light"
          }
        }
      ]
    },
    {
      "cell_type": "markdown",
      "metadata": {
        "id": "WgXPn9h0JJnA"
      },
      "source": [
        "> ## Loan staus vs **Loan Amount Term**"
      ]
    },
    {
      "cell_type": "code",
      "metadata": {
        "colab": {
          "base_uri": "https://localhost:8080/",
          "height": 511
        },
        "id": "yURfaC_qceGA",
        "outputId": "f40b3e2c-3921-4dc3-8a2a-354a9376aec5"
      },
      "source": [
        "pl=sns.relplot(x='Loan_Amount_Term',y='Loan_Amount_Term',data=df,hue='Loan_Status',style='Loan_Status')\n",
        "pl.fig.set_size_inches(10,7)\n",
        "plt.show()"
      ],
      "execution_count": 35,
      "outputs": [
        {
          "output_type": "display_data",
          "data": {
            "image/png": "[encoded data removed]",
            "text/plain": [
              "<Figure size 720x504 with 1 Axes>"
            ]
          },
          "metadata": {
            "needs_background": "light"
          }
        }
      ]
    },
    {
      "cell_type": "code",
      "metadata": {
        "colab": {
          "base_uri": "https://localhost:8080/",
          "height": 744
        },
        "id": "IUklNsmUvSxo",
        "outputId": "6548c49a-09b0-44fc-c7d2-594159a3f274"
      },
      "source": [
        "sns.pairplot(df[['Loan_Amount_Term','LoanAmount', 'CoapplicantIncome','ApplicantIncome']])"
      ],
      "execution_count": 36,
      "outputs": [
        {
          "output_type": "execute_result",
          "data": {
            "text/plain": [
              "<seaborn.axisgrid.PairGrid at 0x7fdbad1c4350>"
            ]
          },
          "metadata": {},
          "execution_count": 36
        },
        {
          "output_type": "display_data",
          "data": {
            "image/png": "[encoded data removed]",
            "text/plain": [
              "<Figure size 720x720 with 20 Axes>"
            ]
          },
          "metadata": {
            "needs_background": "light"
          }
        }
      ]
    },
    {
      "cell_type": "code",
      "metadata": {
        "id": "elIWBojTfn6x"
      },
      "source": [
        "# label encode for categorical variables\n",
        "label = LabelEncoder()\n",
        "\n",
        "df['Credit_History'] = label.fit_transform(df['Credit_History'])\n",
        "df['Education'] = label.fit_transform(df['Education'])\n",
        "df['Property_Area'] = label.fit_transform(df['Property_Area'])\n",
        "df['Self_Employed'] = label.fit_transform(df['Self_Employed'])\n",
        "df['Dependents'] = label.fit_transform(df['Dependents'])\n",
        "df['Married'] = label.fit_transform(df['Married'])\n",
        "df['Gender'] = label.fit_transform(df['Gender'])\n",
        "df['Loan_Status'] = label.fit_transform(df['Loan_Status'])"
      ],
      "execution_count": 37,
      "outputs": []
    },
    {
      "cell_type": "code",
      "metadata": {
        "colab": {
          "base_uri": "https://localhost:8080/",
          "height": 203
        },
        "id": "MnjOuKOR0POL",
        "outputId": "cb4248fb-dcfd-4bb9-eb71-d73fbf957415"
      },
      "source": [
        "# check result after label encode\n",
        "df.head(5)"
      ],
      "execution_count": 38,
      "outputs": [
        {
          "output_type": "execute_result",
          "data": {
            "text/html": [
              "<div>\n",
              "<style scoped>\n",
              "    .dataframe tbody tr th:only-of-type {\n",
              "        vertical-align: middle;\n",
              "    }\n",
              "\n",
              "    .dataframe tbody tr th {\n",
              "        vertical-align: top;\n",
              "    }\n",
              "\n",
              "    .dataframe thead th {\n",
              "        text-align: right;\n",
              "    }\n",
              "</style>\n",
              "<table border=\"1\" class=\"dataframe\">\n",
              "  <thead>\n",
              "    <tr style=\"text-align: right;\">\n",
              "      <th></th>\n",
              "      <th>Gender</th>\n",
              "      <th>Married</th>\n",
              "      <th>Dependents</th>\n",
              "      <th>Education</th>\n",
              "      <th>Self_Employed</th>\n",
              "      <th>ApplicantIncome</th>\n",
              "      <th>CoapplicantIncome</th>\n",
              "      <th>LoanAmount</th>\n",
              "      <th>Loan_Amount_Term</th>\n",
              "      <th>Credit_History</th>\n",
              "      <th>Property_Area</th>\n",
              "      <th>Loan_Status</th>\n",
              "    </tr>\n",
              "  </thead>\n",
              "  <tbody>\n",
              "    <tr>\n",
              "      <th>0</th>\n",
              "      <td>1</td>\n",
              "      <td>0</td>\n",
              "      <td>0</td>\n",
              "      <td>0</td>\n",
              "      <td>0</td>\n",
              "      <td>5849</td>\n",
              "      <td>0.0</td>\n",
              "      <td>128.0</td>\n",
              "      <td>360.0</td>\n",
              "      <td>1</td>\n",
              "      <td>2</td>\n",
              "      <td>1</td>\n",
              "    </tr>\n",
              "    <tr>\n",
              "      <th>1</th>\n",
              "      <td>1</td>\n",
              "      <td>1</td>\n",
              "      <td>1</td>\n",
              "      <td>0</td>\n",
              "      <td>0</td>\n",
              "      <td>4583</td>\n",
              "      <td>1508.0</td>\n",
              "      <td>128.0</td>\n",
              "      <td>360.0</td>\n",
              "      <td>1</td>\n",
              "      <td>0</td>\n",
              "      <td>0</td>\n",
              "    </tr>\n",
              "    <tr>\n",
              "      <th>2</th>\n",
              "      <td>1</td>\n",
              "      <td>1</td>\n",
              "      <td>0</td>\n",
              "      <td>0</td>\n",
              "      <td>1</td>\n",
              "      <td>3000</td>\n",
              "      <td>0.0</td>\n",
              "      <td>66.0</td>\n",
              "      <td>360.0</td>\n",
              "      <td>1</td>\n",
              "      <td>2</td>\n",
              "      <td>1</td>\n",
              "    </tr>\n",
              "    <tr>\n",
              "      <th>3</th>\n",
              "      <td>1</td>\n",
              "      <td>1</td>\n",
              "      <td>0</td>\n",
              "      <td>1</td>\n",
              "      <td>0</td>\n",
              "      <td>2583</td>\n",
              "      <td>2358.0</td>\n",
              "      <td>120.0</td>\n",
              "      <td>360.0</td>\n",
              "      <td>1</td>\n",
              "      <td>2</td>\n",
              "      <td>1</td>\n",
              "    </tr>\n",
              "    <tr>\n",
              "      <th>4</th>\n",
              "      <td>1</td>\n",
              "      <td>0</td>\n",
              "      <td>0</td>\n",
              "      <td>0</td>\n",
              "      <td>0</td>\n",
              "      <td>6000</td>\n",
              "      <td>0.0</td>\n",
              "      <td>141.0</td>\n",
              "      <td>360.0</td>\n",
              "      <td>1</td>\n",
              "      <td>2</td>\n",
              "      <td>1</td>\n",
              "    </tr>\n",
              "  </tbody>\n",
              "</table>\n",
              "</div>"
            ],
            "text/plain": [
              "   Gender  Married  Dependents  ...  Credit_History  Property_Area  Loan_Status\n",
              "0       1        0           0  ...               1              2            1\n",
              "1       1        1           1  ...               1              0            0\n",
              "2       1        1           0  ...               1              2            1\n",
              "3       1        1           0  ...               1              2            1\n",
              "4       1        0           0  ...               1              2            1\n",
              "\n",
              "[5 rows x 12 columns]"
            ]
          },
          "metadata": {},
          "execution_count": 38
        }
      ]
    },
    {
      "cell_type": "code",
      "metadata": {
        "colab": {
          "base_uri": "https://localhost:8080/",
          "height": 312
        },
        "id": "VhXEw1dbhtLj",
        "outputId": "91b2f7d9-7b3b-4a5b-abb3-fd97bf90e840"
      },
      "source": [
        "features=['Gender', 'Dependents',\t'Married',\t'Education',\t'Self_Employed', 'Credit_History', 'Property_Area']\n",
        "\n",
        "plt.figure(figsize=(23,10))\n",
        "for i in enumerate(features):\n",
        "  plt.subplot(2,7,i[0]+1)\n",
        "  sns.countplot(df[i[1]])\n"
      ],
      "execution_count": 39,
      "outputs": [
        {
          "output_type": "display_data",
          "data": {
            "image/png": "[encoded data removed]",
            "text/plain": [
              "<Figure size 1656x720 with 7 Axes>"
            ]
          },
          "metadata": {
            "needs_background": "light"
          }
        }
      ]
    },
    {
      "cell_type": "markdown",
      "metadata": {
        "id": "ErZnsPMclxtW"
      },
      "source": [
        "### **Releationship Between Each Numerical Variable**"
      ]
    },
    {
      "cell_type": "code",
      "metadata": {
        "colab": {
          "base_uri": "https://localhost:8080/",
          "height": 608
        },
        "id": "HL4Hv5-d2Xcz",
        "outputId": "8fbb280c-26c0-499a-eed3-d7ae6eeb6a50"
      },
      "source": [
        "plt.subplots(figsize = (14,10))\n",
        "sns.heatmap(df[['ApplicantIncome','CoapplicantIncome','LoanAmount','Loan_Amount_Term','Loan_Status']].corr(),\n",
        "            annot=True,fmt='.3g', vmin=-1, vmax=1, center= 0).set_title(\"Corelation Between Attributes\")\n",
        "plt.show()"
      ],
      "execution_count": 40,
      "outputs": [
        {
          "output_type": "display_data",
          "data": {
            "image/png": "[encoded data removed]",
            "text/plain": [
              "<Figure size 1008x720 with 2 Axes>"
            ]
          },
          "metadata": {
            "needs_background": "light"
          }
        }
      ]
    },
    {
      "cell_type": "markdown",
      "metadata": {
        "id": "NkjYHJwC21gi"
      },
      "source": [
        "### **Model Implementation**"
      ]
    },
    {
      "cell_type": "code",
      "metadata": {
        "id": "m2uMrArr2cco"
      },
      "source": [
        "# pre-processing\n",
        "y = df['Loan_Status']\n",
        "x = df.drop(['Loan_Status'],axis=1)"
      ],
      "execution_count": 41,
      "outputs": []
    },
    {
      "cell_type": "code",
      "metadata": {
        "id": "Gcu46iM9_ukr"
      },
      "source": [
        "# define object for over sampling\n",
        "from imblearn.over_sampling import SMOTE\n",
        "over=SMOTE()"
      ],
      "execution_count": 42,
      "outputs": []
    },
    {
      "cell_type": "code",
      "metadata": {
        "id": "5rmL1cLz_z1W"
      },
      "source": [
        "# balance the dataset using over sampling method\n",
        "x,y=over.fit_resample(x,y)"
      ],
      "execution_count": 43,
      "outputs": []
    },
    {
      "cell_type": "code",
      "metadata": {
        "colab": {
          "base_uri": "https://localhost:8080/",
          "height": 474
        },
        "id": "fc32PIRm__P9",
        "outputId": "29734118-95ff-458d-e642-6cfd3077b4cf"
      },
      "source": [
        "plt.figure(figsize=(7,7.5))\n",
        "sns.countplot(y)\n",
        "plt.title(\"Distribution of Loan Status After Over Sampling\",size=15)\n",
        "plt.show()"
      ],
      "execution_count": 44,
      "outputs": [
        {
          "output_type": "display_data",
          "data": {
            "image/png": "[encoded data removed]",
            "text/plain": [
              "<Figure size 504x540 with 1 Axes>"
            ]
          },
          "metadata": {
            "needs_background": "light"
          }
        }
      ]
    },
    {
      "cell_type": "code",
      "metadata": {
        "id": "pT9FWfFl4R6X"
      },
      "source": [
        "# scale the independent variable \n",
        "sc = StandardScaler()\n",
        "x = sc.fit_transform(x)"
      ],
      "execution_count": 45,
      "outputs": []
    },
    {
      "cell_type": "code",
      "metadata": {
        "id": "LvmLHre761O-"
      },
      "source": [
        "# divide into training set & test sets\n",
        "x_train, x_test, y_train, y_test = train_test_split(x,y, test_size=0.25, random_state=42)"
      ],
      "execution_count": 46,
      "outputs": []
    },
    {
      "cell_type": "code",
      "metadata": {
        "id": "3H-Zmxnt67yM"
      },
      "source": [
        "#define functions for fit, & predict with each models\n",
        "def models(mod,x_t,y_t,x_tes,y_tes,x_source,y_source):\n",
        "    \n",
        "    #Fit model\n",
        "    mod.fit(x_t,y_t)\n",
        "    \n",
        "    #Predict Model\n",
        "    pred = mod.predict(x_tes)\n",
        "    \n",
        "    #Accuracy Score\n",
        "    accuracy = accuracy_score(y_tes,pred)\n",
        "\n",
        "    #AUC_ROC Score\n",
        "    AUC_ROC_Score = roc_auc_score(y_tes,pred)\n",
        "    \n",
        "    #Cross Validation Score\n",
        "    cross_validation = cross_val_score(mod,x_source,y_source,cv=5)\n",
        "\n",
        "    print(\"Accuracy Is : \",round(accuracy*100,4),\"%\")\n",
        "    \n",
        "    print(\"-------------------------------------------\")   \n",
        "    \n",
        "    print('Cross validations mean score ',round(np.mean(cross_validation)*100,4),'%')\n",
        "    \n",
        "    print(\"-------------------------------------------\")\n",
        "\n",
        "    print('AUC_ROC Score ',round(np.mean(AUC_ROC_Score)*100,4),'%')\n",
        "\n",
        "    print(\"-------------------------------------------\")\n",
        "    \n",
        "    #Confusion Metrix\n",
        "    print(confusion_matrix(y_tes, pred))\n",
        "    \n",
        "    print(\"-------------------------------------------\")    \n",
        "    \n",
        "    #Recall Score , Percision Score, F1 Score\n",
        "    print(\"Recall Score :\",recall_score(y_tes, pred, average='weighted'))\n",
        "    print(\"Percision Score :\",precision_score(y_tes, pred, average='weighted'))\n",
        "    print(\"F1 Score :\",f1_score(y_tes, pred, average='weighted'))"
      ],
      "execution_count": 47,
      "outputs": []
    },
    {
      "cell_type": "markdown",
      "metadata": {
        "id": "7y06BOYoO2sj"
      },
      "source": [
        "### **LogisticRegression**"
      ]
    },
    {
      "cell_type": "code",
      "metadata": {
        "colab": {
          "base_uri": "https://localhost:8080/"
        },
        "id": "3ijr3ZT97lC7",
        "outputId": "29fca54f-77bb-411b-ee46-3024782794df"
      },
      "source": [
        "model = LogisticRegression()\n",
        "\n",
        "models(model,x_train,y_train,x_test,y_test,x,y )"
      ],
      "execution_count": 48,
      "outputs": [
        {
          "output_type": "stream",
          "text": [
            "Accuracy Is :  72.9858 %\n",
            "-------------------------------------------\n",
            "Cross validations mean score  75.8312 %\n",
            "-------------------------------------------\n",
            "AUC_ROC Score  74.2313 %\n",
            "-------------------------------------------\n",
            "[[67 47]\n",
            " [10 87]]\n",
            "-------------------------------------------\n",
            "Recall Score : 0.7298578199052133\n",
            "Percision Score : 0.768589654668738\n",
            "F1 Score : 0.7253269794149675\n"
          ],
          "name": "stdout"
        }
      ]
    },
    {
      "cell_type": "markdown",
      "metadata": {
        "id": "Egzhdzl8O8EL"
      },
      "source": [
        "### **Decision Tree Classifier**"
      ]
    },
    {
      "cell_type": "code",
      "metadata": {
        "id": "YB8sopL67wjD",
        "colab": {
          "base_uri": "https://localhost:8080/"
        },
        "outputId": "24a45e68-d752-439d-8ba0-37d8b89e5499"
      },
      "source": [
        "model_1 = DecisionTreeClassifier(random_state=42)\n",
        "models(model_1,x_train,y_train,x_test,y_test,x,y )"
      ],
      "execution_count": 49,
      "outputs": [
        {
          "output_type": "stream",
          "text": [
            "Accuracy Is :  74.8815 %\n",
            "-------------------------------------------\n",
            "Cross validations mean score  78.4418 %\n",
            "-------------------------------------------\n",
            "AUC_ROC Score  74.7558 %\n",
            "-------------------------------------------\n",
            "[[87 27]\n",
            " [26 71]]\n",
            "-------------------------------------------\n",
            "Recall Score : 0.7488151658767772\n",
            "Percision Score : 0.7490304346374711\n",
            "F1 Score : 0.7489059589942734\n"
          ],
          "name": "stdout"
        }
      ]
    },
    {
      "cell_type": "markdown",
      "metadata": {
        "id": "RYmrHavvPECY"
      },
      "source": [
        "### **RandomForestClassifier**"
      ]
    },
    {
      "cell_type": "code",
      "metadata": {
        "colab": {
          "base_uri": "https://localhost:8080/"
        },
        "id": "UQMAOvua73ld",
        "outputId": "6bef83b0-8dc2-4804-8358-47a7d87e405d"
      },
      "source": [
        "model_2 = RandomForestClassifier(n_estimators=150,random_state=42)\n",
        "models(model_2,x_train,y_train,x_test,y_test,x,y )"
      ],
      "execution_count": 50,
      "outputs": [
        {
          "output_type": "stream",
          "text": [
            "Accuracy Is :  81.9905 %\n",
            "-------------------------------------------\n",
            "Cross validations mean score  83.7799 %\n",
            "-------------------------------------------\n",
            "AUC_ROC Score  82.7953 %\n",
            "-------------------------------------------\n",
            "[[83 31]\n",
            " [ 7 90]]\n",
            "-------------------------------------------\n",
            "Recall Score : 0.8199052132701422\n",
            "Percision Score : 0.8401994960374969\n",
            "F1 Score : 0.8192248767849243\n"
          ],
          "name": "stdout"
        }
      ]
    },
    {
      "cell_type": "markdown",
      "metadata": {
        "id": "pZhRgesHPFq8"
      },
      "source": [
        "### **Extra Trees Classifier**"
      ]
    },
    {
      "cell_type": "code",
      "metadata": {
        "id": "ImQKtBMM77kT",
        "colab": {
          "base_uri": "https://localhost:8080/"
        },
        "outputId": "d4f33d66-0c53-4c0c-df2f-e2f4c7e77e3f"
      },
      "source": [
        "model_3 = ExtraTreesClassifier(random_state=42)\n",
        "models(model_3,x_train,y_train,x_test,y_test,x,y )"
      ],
      "execution_count": 51,
      "outputs": [
        {
          "output_type": "stream",
          "text": [
            "Accuracy Is :  78.1991 %\n",
            "-------------------------------------------\n",
            "Cross validations mean score  82.1217 %\n",
            "-------------------------------------------\n",
            "AUC_ROC Score  78.6716 %\n",
            "-------------------------------------------\n",
            "[[83 31]\n",
            " [15 82]]\n",
            "-------------------------------------------\n",
            "Recall Score : 0.7819905213270142\n",
            "Percision Score : 0.7911867343087049\n",
            "F1 Score : 0.7820688715439676\n"
          ],
          "name": "stdout"
        }
      ]
    },
    {
      "cell_type": "markdown",
      "metadata": {
        "id": "MNIXWqGpPH20"
      },
      "source": [
        "### **Support Vector Machine**"
      ]
    },
    {
      "cell_type": "code",
      "metadata": {
        "id": "c1pDAMY_7_EN",
        "colab": {
          "base_uri": "https://localhost:8080/"
        },
        "outputId": "d677d914-b426-430c-9c52-4e0a17914a6e"
      },
      "source": [
        "model_4 = svm.SVC()\n",
        "models(model_4,x_train,y_train,x_test,y_test,x,y )"
      ],
      "execution_count": 52,
      "outputs": [
        {
          "output_type": "stream",
          "text": [
            "Accuracy Is :  76.3033 %\n",
            "-------------------------------------------\n",
            "Cross validations mean score  76.7829 %\n",
            "-------------------------------------------\n",
            "AUC_ROC Score  77.6858 %\n",
            "-------------------------------------------\n",
            "[[69 45]\n",
            " [ 5 92]]\n",
            "-------------------------------------------\n",
            "Recall Score : 0.7630331753554502\n",
            "Percision Score : 0.8124928124582187\n",
            "F1 Score : 0.758077513447081\n"
          ],
          "name": "stdout"
        }
      ]
    },
    {
      "cell_type": "markdown",
      "metadata": {
        "id": "a0KvKCnY8szq"
      },
      "source": [
        "### *Random Forest Classifier model gives higher score accuracy more than other models. Therefore Random Forest Classifier model consider as the model for further implementations & evaluations*"
      ]
    },
    {
      "cell_type": "markdown",
      "metadata": {
        "id": "zu0KYrMU-DFP"
      },
      "source": [
        "### **Hyper Parameter Tuning with Random Forest Classifer Model**"
      ]
    },
    {
      "cell_type": "code",
      "metadata": {
        "id": "sjAvdOHf8FED",
        "colab": {
          "base_uri": "https://localhost:8080/"
        },
        "outputId": "3d3cc617-5710-4870-935a-e07ca0df1365"
      },
      "source": [
        "# define parameters & fit the model\n",
        "parameters = {'n_estimators':[100, 200, 300, 400, 500],\n",
        "            'criterion':['gini','entropty'],\n",
        "            'max_depth':[None,1,2,3,4,5,6,7,8,9,10],\n",
        "           'max_features':['int','float','auto','log2'],'random_state':[42]}\n",
        "\n",
        "best_model = RandomForestClassifier()\n",
        "\n",
        "clf = GridSearchCV(best_model, parameters, cv=5)\n",
        "clf.fit(x_train, y_train)"
      ],
      "execution_count": 53,
      "outputs": [
        {
          "output_type": "execute_result",
          "data": {
            "text/plain": [
              "GridSearchCV(cv=5, error_score=nan,\n",
              "             estimator=RandomForestClassifier(bootstrap=True, ccp_alpha=0.0,\n",
              "                                              class_weight=None,\n",
              "                                              criterion='gini', max_depth=None,\n",
              "                                              max_features='auto',\n",
              "                                              max_leaf_nodes=None,\n",
              "                                              max_samples=None,\n",
              "                                              min_impurity_decrease=0.0,\n",
              "                                              min_impurity_split=None,\n",
              "                                              min_samples_leaf=1,\n",
              "                                              min_samples_split=2,\n",
              "                                              min_weight_fraction_leaf=0.0,\n",
              "                                              n_estimators=100, n_jobs=None,\n",
              "                                              oob_score=False,\n",
              "                                              random_state=None, verbose=0,\n",
              "                                              warm_start=False),\n",
              "             iid='deprecated', n_jobs=None,\n",
              "             param_grid={'criterion': ['gini', 'entropty'],\n",
              "                         'max_depth': [None, 1, 2, 3, 4, 5, 6, 7, 8, 9, 10],\n",
              "                         'max_features': ['int', 'float', 'auto', 'log2'],\n",
              "                         'n_estimators': [100, 200, 300, 400, 500],\n",
              "                         'random_state': [42]},\n",
              "             pre_dispatch='2*n_jobs', refit=True, return_train_score=False,\n",
              "             scoring=None, verbose=0)"
            ]
          },
          "metadata": {},
          "execution_count": 53
        }
      ]
    },
    {
      "cell_type": "code",
      "metadata": {
        "id": "qJJpE2K09Zqr",
        "colab": {
          "base_uri": "https://localhost:8080/",
          "height": 363
        },
        "outputId": "cc431a9c-a6b6-42b6-d14b-0015cdafeba4"
      },
      "source": [
        "# add model values to dataframe\n",
        "df_grid = pd.DataFrame(clf.cv_results_)\n",
        "\n",
        "# rank the datapoint by ranking\n",
        "df_grid.sort_values(by=['rank_test_score']).head(3)"
      ],
      "execution_count": 54,
      "outputs": [
        {
          "output_type": "execute_result",
          "data": {
            "text/html": [
              "<div>\n",
              "<style scoped>\n",
              "    .dataframe tbody tr th:only-of-type {\n",
              "        vertical-align: middle;\n",
              "    }\n",
              "\n",
              "    .dataframe tbody tr th {\n",
              "        vertical-align: top;\n",
              "    }\n",
              "\n",
              "    .dataframe thead th {\n",
              "        text-align: right;\n",
              "    }\n",
              "</style>\n",
              "<table border=\"1\" class=\"dataframe\">\n",
              "  <thead>\n",
              "    <tr style=\"text-align: right;\">\n",
              "      <th></th>\n",
              "      <th>mean_fit_time</th>\n",
              "      <th>std_fit_time</th>\n",
              "      <th>mean_score_time</th>\n",
              "      <th>std_score_time</th>\n",
              "      <th>param_criterion</th>\n",
              "      <th>param_max_depth</th>\n",
              "      <th>param_max_features</th>\n",
              "      <th>param_n_estimators</th>\n",
              "      <th>param_random_state</th>\n",
              "      <th>params</th>\n",
              "      <th>split0_test_score</th>\n",
              "      <th>split1_test_score</th>\n",
              "      <th>split2_test_score</th>\n",
              "      <th>split3_test_score</th>\n",
              "      <th>split4_test_score</th>\n",
              "      <th>mean_test_score</th>\n",
              "      <th>std_test_score</th>\n",
              "      <th>rank_test_score</th>\n",
              "    </tr>\n",
              "  </thead>\n",
              "  <tbody>\n",
              "    <tr>\n",
              "      <th>18</th>\n",
              "      <td>0.681194</td>\n",
              "      <td>0.003700</td>\n",
              "      <td>0.039705</td>\n",
              "      <td>0.002656</td>\n",
              "      <td>gini</td>\n",
              "      <td>None</td>\n",
              "      <td>log2</td>\n",
              "      <td>400</td>\n",
              "      <td>42</td>\n",
              "      <td>{'criterion': 'gini', 'max_depth': None, 'max_...</td>\n",
              "      <td>0.850394</td>\n",
              "      <td>0.88189</td>\n",
              "      <td>0.881890</td>\n",
              "      <td>0.880952</td>\n",
              "      <td>0.809524</td>\n",
              "      <td>0.860930</td>\n",
              "      <td>0.028401</td>\n",
              "      <td>1</td>\n",
              "    </tr>\n",
              "    <tr>\n",
              "      <th>13</th>\n",
              "      <td>0.683104</td>\n",
              "      <td>0.006479</td>\n",
              "      <td>0.040055</td>\n",
              "      <td>0.003372</td>\n",
              "      <td>gini</td>\n",
              "      <td>None</td>\n",
              "      <td>auto</td>\n",
              "      <td>400</td>\n",
              "      <td>42</td>\n",
              "      <td>{'criterion': 'gini', 'max_depth': None, 'max_...</td>\n",
              "      <td>0.850394</td>\n",
              "      <td>0.88189</td>\n",
              "      <td>0.881890</td>\n",
              "      <td>0.880952</td>\n",
              "      <td>0.809524</td>\n",
              "      <td>0.860930</td>\n",
              "      <td>0.028401</td>\n",
              "      <td>1</td>\n",
              "    </tr>\n",
              "    <tr>\n",
              "      <th>14</th>\n",
              "      <td>0.870377</td>\n",
              "      <td>0.012404</td>\n",
              "      <td>0.049910</td>\n",
              "      <td>0.003280</td>\n",
              "      <td>gini</td>\n",
              "      <td>None</td>\n",
              "      <td>auto</td>\n",
              "      <td>500</td>\n",
              "      <td>42</td>\n",
              "      <td>{'criterion': 'gini', 'max_depth': None, 'max_...</td>\n",
              "      <td>0.858268</td>\n",
              "      <td>0.88189</td>\n",
              "      <td>0.874016</td>\n",
              "      <td>0.873016</td>\n",
              "      <td>0.809524</td>\n",
              "      <td>0.859343</td>\n",
              "      <td>0.026053</td>\n",
              "      <td>3</td>\n",
              "    </tr>\n",
              "  </tbody>\n",
              "</table>\n",
              "</div>"
            ],
            "text/plain": [
              "    mean_fit_time  std_fit_time  ...  std_test_score  rank_test_score\n",
              "18       0.681194      0.003700  ...        0.028401                1\n",
              "13       0.683104      0.006479  ...        0.028401                1\n",
              "14       0.870377      0.012404  ...        0.026053                3\n",
              "\n",
              "[3 rows x 18 columns]"
            ]
          },
          "metadata": {},
          "execution_count": 54
        }
      ]
    },
    {
      "cell_type": "code",
      "metadata": {
        "id": "VGpto9yW9duR",
        "colab": {
          "base_uri": "https://localhost:8080/"
        },
        "outputId": "0709750b-efb5-4cf3-e176-6c7152499101"
      },
      "source": [
        "# best parameters\n",
        "clf.best_params_"
      ],
      "execution_count": 55,
      "outputs": [
        {
          "output_type": "execute_result",
          "data": {
            "text/plain": [
              "{'criterion': 'gini',\n",
              " 'max_depth': None,\n",
              " 'max_features': 'auto',\n",
              " 'n_estimators': 400,\n",
              " 'random_state': 42}"
            ]
          },
          "metadata": {},
          "execution_count": 55
        }
      ]
    },
    {
      "cell_type": "code",
      "metadata": {
        "id": "vhE0E3qa9gYs",
        "colab": {
          "base_uri": "https://localhost:8080/"
        },
        "outputId": "4e5378c5-6b8b-47c1-be94-f46955c647fb"
      },
      "source": [
        "# highest score \n",
        "clf.best_score_"
      ],
      "execution_count": 56,
      "outputs": [
        {
          "output_type": "execute_result",
          "data": {
            "text/plain": [
              "0.8609298837645294"
            ]
          },
          "metadata": {},
          "execution_count": 56
        }
      ]
    },
    {
      "cell_type": "code",
      "metadata": {
        "id": "yl3X1Nbe9g_u",
        "colab": {
          "base_uri": "https://localhost:8080/"
        },
        "outputId": "1f2e01bc-03dd-4abb-f4cb-76d14fd7e7e5"
      },
      "source": [
        "# model estimater/parameters\n",
        "clf.best_estimator_"
      ],
      "execution_count": 57,
      "outputs": [
        {
          "output_type": "execute_result",
          "data": {
            "text/plain": [
              "RandomForestClassifier(bootstrap=True, ccp_alpha=0.0, class_weight=None,\n",
              "                       criterion='gini', max_depth=None, max_features='auto',\n",
              "                       max_leaf_nodes=None, max_samples=None,\n",
              "                       min_impurity_decrease=0.0, min_impurity_split=None,\n",
              "                       min_samples_leaf=1, min_samples_split=2,\n",
              "                       min_weight_fraction_leaf=0.0, n_estimators=400,\n",
              "                       n_jobs=None, oob_score=False, random_state=42, verbose=0,\n",
              "                       warm_start=False)"
            ]
          },
          "metadata": {},
          "execution_count": 57
        }
      ]
    },
    {
      "cell_type": "markdown",
      "metadata": {
        "id": "cyHqcXmy_65_"
      },
      "source": [
        "### **Test Model With Tuned Values** : *Decision Tree Classifier*"
      ]
    },
    {
      "cell_type": "code",
      "metadata": {
        "colab": {
          "base_uri": "https://localhost:8080/"
        },
        "id": "OzcVHneh-4qu",
        "outputId": "34035fe6-cd33-4c33-c333-7713f51ff5b2"
      },
      "source": [
        "# test model with tuned values\n",
        "Tuned_model = RandomForestClassifier(bootstrap=True, ccp_alpha=0.0, class_weight=None,\n",
        "                       criterion='gini', max_depth=None, max_features='auto',\n",
        "                       max_leaf_nodes=None, max_samples=None,\n",
        "                       min_impurity_decrease=0.0, min_impurity_split=None,\n",
        "                       min_samples_leaf=1, min_samples_split=2,\n",
        "                       min_weight_fraction_leaf=0.0, n_estimators=400,\n",
        "                       n_jobs=None, oob_score=False, random_state=42, verbose=0,\n",
        "                       warm_start=False)\n",
        "\n",
        "\n",
        "models(Tuned_model,x_train,y_train,x_test,y_test,x,y )"
      ],
      "execution_count": 67,
      "outputs": [
        {
          "output_type": "stream",
          "text": [
            "Accuracy Is :  82.9384 %\n",
            "-------------------------------------------\n",
            "Cross validations mean score  84.0166 %\n",
            "-------------------------------------------\n",
            "AUC_ROC Score  83.7493 %\n",
            "-------------------------------------------\n",
            "[[84 30]\n",
            " [ 6 91]]\n",
            "-------------------------------------------\n",
            "Recall Score : 0.8293838862559242\n",
            "Percision Score : 0.8500019584035094\n",
            "F1 Score : 0.8287393569541386\n"
          ],
          "name": "stdout"
        }
      ]
    },
    {
      "cell_type": "markdown",
      "metadata": {
        "id": "jgnA23n0tDzq"
      },
      "source": [
        "### *Only tuned with few values due to the lack of hardware performance. therefore after get tuned values test the accuracy with some \"n_estimators\"*"
      ]
    },
    {
      "cell_type": "markdown",
      "metadata": {
        "id": "5Vy8LgVHUuSO"
      },
      "source": [
        "### **ROC-AOC Curve**"
      ]
    },
    {
      "cell_type": "code",
      "metadata": {
        "id": "40PRZh8cLlv5"
      },
      "source": [
        "# calculate false positive rate & true posituve rate\n",
        "fpred=pd.Series(Tuned_model.predict_proba(x_test)[:,1])\n",
        "fpr,tpr,threshold=metrics.roc_curve(y_test,fpred)"
      ],
      "execution_count": 68,
      "outputs": []
    },
    {
      "cell_type": "code",
      "metadata": {
        "id": "e_39ihgXLlAu",
        "colab": {
          "base_uri": "https://localhost:8080/",
          "height": 476
        },
        "outputId": "a2b05979-1e3b-48c9-a7f7-94cde2e1c24f"
      },
      "source": [
        "# visualize the ROC-AOC Curve\n",
        "plt.figure(figsize=(7,7))\n",
        "plt.plot(fpr,tpr,color='k',label='ROC')\n",
        "plt.plot([0,1],[0,1],color='b',linestyle='--')\n",
        "plt.xlabel('False Positive Rate')\n",
        "plt.ylabel('True Positive Rate')\n",
        "plt.title('ROC-AUC curve')\n",
        "plt.legend()"
      ],
      "execution_count": 69,
      "outputs": [
        {
          "output_type": "execute_result",
          "data": {
            "text/plain": [
              "<matplotlib.legend.Legend at 0x7fdba2bc4750>"
            ]
          },
          "metadata": {},
          "execution_count": 69
        },
        {
          "output_type": "display_data",
          "data": {
            "image/png": "[encoded data removed]",
            "text/plain": [
              "<Figure size 504x504 with 1 Axes>"
            ]
          },
          "metadata": {
            "needs_background": "light"
          }
        }
      ]
    },
    {
      "cell_type": "markdown",
      "metadata": {
        "id": "TRUvy_X9Nm4N"
      },
      "source": [
        "### *After parameters tuned Random Forest Classifier Model gives higher accuracy , cross validation & ROC value. therefore we can get this model with tuned paramter values as our final model*"
      ]
    },
    {
      "cell_type": "markdown",
      "metadata": {
        "id": "xkHwe8wIU5-V"
      },
      "source": [
        "### **Test Final Model With Input Values**"
      ]
    },
    {
      "cell_type": "code",
      "metadata": {
        "colab": {
          "base_uri": "https://localhost:8080/",
          "height": 162
        },
        "id": "nqM4FzTsR0LO",
        "outputId": "3c512e22-fb43-4081-889d-623d2370898a"
      },
      "source": [
        "df.head(3)"
      ],
      "execution_count": 70,
      "outputs": [
        {
          "output_type": "execute_result",
          "data": {
            "text/html": [
              "<div>\n",
              "<style scoped>\n",
              "    .dataframe tbody tr th:only-of-type {\n",
              "        vertical-align: middle;\n",
              "    }\n",
              "\n",
              "    .dataframe tbody tr th {\n",
              "        vertical-align: top;\n",
              "    }\n",
              "\n",
              "    .dataframe thead th {\n",
              "        text-align: right;\n",
              "    }\n",
              "</style>\n",
              "<table border=\"1\" class=\"dataframe\">\n",
              "  <thead>\n",
              "    <tr style=\"text-align: right;\">\n",
              "      <th></th>\n",
              "      <th>Gender</th>\n",
              "      <th>Married</th>\n",
              "      <th>Dependents</th>\n",
              "      <th>Education</th>\n",
              "      <th>Self_Employed</th>\n",
              "      <th>ApplicantIncome</th>\n",
              "      <th>CoapplicantIncome</th>\n",
              "      <th>LoanAmount</th>\n",
              "      <th>Loan_Amount_Term</th>\n",
              "      <th>Credit_History</th>\n",
              "      <th>Property_Area</th>\n",
              "      <th>Loan_Status</th>\n",
              "    </tr>\n",
              "  </thead>\n",
              "  <tbody>\n",
              "    <tr>\n",
              "      <th>0</th>\n",
              "      <td>1</td>\n",
              "      <td>0</td>\n",
              "      <td>0</td>\n",
              "      <td>0</td>\n",
              "      <td>0</td>\n",
              "      <td>5849</td>\n",
              "      <td>0.0</td>\n",
              "      <td>128.0</td>\n",
              "      <td>360.0</td>\n",
              "      <td>1</td>\n",
              "      <td>2</td>\n",
              "      <td>1</td>\n",
              "    </tr>\n",
              "    <tr>\n",
              "      <th>1</th>\n",
              "      <td>1</td>\n",
              "      <td>1</td>\n",
              "      <td>1</td>\n",
              "      <td>0</td>\n",
              "      <td>0</td>\n",
              "      <td>4583</td>\n",
              "      <td>1508.0</td>\n",
              "      <td>128.0</td>\n",
              "      <td>360.0</td>\n",
              "      <td>1</td>\n",
              "      <td>0</td>\n",
              "      <td>0</td>\n",
              "    </tr>\n",
              "    <tr>\n",
              "      <th>2</th>\n",
              "      <td>1</td>\n",
              "      <td>1</td>\n",
              "      <td>0</td>\n",
              "      <td>0</td>\n",
              "      <td>1</td>\n",
              "      <td>3000</td>\n",
              "      <td>0.0</td>\n",
              "      <td>66.0</td>\n",
              "      <td>360.0</td>\n",
              "      <td>1</td>\n",
              "      <td>2</td>\n",
              "      <td>1</td>\n",
              "    </tr>\n",
              "  </tbody>\n",
              "</table>\n",
              "</div>"
            ],
            "text/plain": [
              "   Gender  Married  Dependents  ...  Credit_History  Property_Area  Loan_Status\n",
              "0       1        0           0  ...               1              2            1\n",
              "1       1        1           1  ...               1              0            0\n",
              "2       1        1           0  ...               1              2            1\n",
              "\n",
              "[3 rows x 12 columns]"
            ]
          },
          "metadata": {},
          "execution_count": 70
        }
      ]
    },
    {
      "cell_type": "code",
      "metadata": {
        "id": "u3dgsEqmDX6i",
        "colab": {
          "base_uri": "https://localhost:8080/"
        },
        "outputId": "b6ea004f-18e8-46ee-8dd7-7301453c9ea8"
      },
      "source": [
        "def classifer(input_data):\n",
        "\n",
        "  input_array = np.asarray(input_data)\n",
        "  arr_reshape = input_array.reshape(1,-1)\n",
        "\n",
        "  scaled = sc.transform(arr_reshape)\n",
        "\n",
        "  Loan_pred =  Tuned_model.predict(scaled)\n",
        "  print(Loan_pred[0])\n",
        "\n",
        "\n",
        "def main():\n",
        "\n",
        "  Gender  = 'Male'                \n",
        "  Martial_st = 'Unmarried'               \n",
        "  Dependents = '0'            \n",
        "  Education = 'Graduate'          \n",
        "  Self_Employed = 'No'            \n",
        "  Credit_History = 'Yes' \n",
        "  Property_Area = 'Semi Urban'\n",
        "\n",
        "  ApplicantIncome = 5849        \n",
        "  CoapplicantIncome =  0  \n",
        "  LoanAmount = 146.412162         \n",
        "  Loan_Amount_Term =  360\n",
        "\n",
        "\n",
        "#change gender.........................................\n",
        "  if Gender == 'Female':\n",
        "      Gender = 0\n",
        "\n",
        "  elif Gender == 'Male':\n",
        "      Gender = 1\n",
        "\n",
        "#change martial status..................................\n",
        "  if Martial_st == 'Maried':\n",
        "      Martial_st = 1\n",
        "\n",
        "  elif Martial_st == 'Unmarried':\n",
        "      Martial_st = 0\n",
        "\n",
        "#change Dependents status..................................\n",
        "  if Dependents == '0':\n",
        "      Dependents = 0\n",
        "\n",
        "  elif Dependents == '1':\n",
        "      Dependents = 1\n",
        "\n",
        "  elif Dependents == '2':\n",
        "      Dependents = 2\n",
        "\n",
        "  elif Dependents == '3+':\n",
        "      Dependents = 3 \n",
        "\n",
        "#change Education status..................................\n",
        "  if Education == 'Graduate':\n",
        "      Education = 0\n",
        "\n",
        "  elif Education == 'Not Graduate':\n",
        "      Education = 1\n",
        "\n",
        "#change Self_Employed status..................................\n",
        "  if Self_Employed == 'Yes':\n",
        "      Self_Employed = 1\n",
        "\n",
        "  elif Self_Employed == 'No':\n",
        "      Self_Employed = 0\n",
        "\n",
        "#change credit history status..................................\n",
        "  if Credit_History == 'Yes':\n",
        "      Credit_History = 1\n",
        "\n",
        "  elif Credit_History == 'No':\n",
        "      Credit_History = 0\n",
        "\n",
        "#change Property Area status..................................\n",
        "  if Property_Area == 'Urban':\n",
        "      Property_Area = 0\n",
        "\n",
        "  elif Property_Area == 'Rural':\n",
        "      Property_Area = 1\n",
        "\n",
        "  elif Property_Area == 'Semi Urban':\n",
        "      Property_Area = 2\n",
        "\n",
        "# add feature value to set          \n",
        "  input_data = [Gender,\tMartial_st, Dependents,\tEducation, Self_Employed, float(ApplicantIncome),\tfloat(CoapplicantIncome), float(LoanAmount), float(Loan_Amount_Term), Credit_History, Property_Area]\n",
        "\n",
        "\n",
        "# tranfer value to model function & pre proccessings\n",
        "  classifer(input_data)\n",
        "\n",
        "\n",
        "\n",
        "#main\n",
        "main()\n",
        "\n"
      ],
      "execution_count": 71,
      "outputs": [
        {
          "output_type": "stream",
          "text": [
            "1\n"
          ],
          "name": "stdout"
        }
      ]
    },
    {
      "cell_type": "markdown",
      "metadata": {
        "id": "5q9RSOmkgefw"
      },
      "source": [
        "### **Save Scaler**"
      ]
    },
    {
      "cell_type": "code",
      "metadata": {
        "id": "pm5IiiYQzEsQ"
      },
      "source": [
        "import pickle\n",
        "scalerfile = 'scaler.save'\n",
        "pickle.dump(sc, open(scalerfile, 'wb'))"
      ],
      "execution_count": 74,
      "outputs": []
    },
    {
      "cell_type": "markdown",
      "metadata": {
        "id": "mRYQLlmqgk81"
      },
      "source": [
        "### **Save Model**"
      ]
    },
    {
      "cell_type": "code",
      "metadata": {
        "id": "YS_q6aYqapzL"
      },
      "source": [
        "with open('Loan_cls_model','wb') as f:\n",
        "  pickle.dump(Tuned_model,f)"
      ],
      "execution_count": 75,
      "outputs": []
    },
    {
      "cell_type": "markdown",
      "metadata": {
        "id": "h9QWyjhUgt_F"
      },
      "source": [
        "### **Save Notebook File as HTML**"
      ]
    },
    {
      "cell_type": "code",
      "metadata": {
        "colab": {
          "base_uri": "https://localhost:8080/",
          "height": 1000
        },
        "id": "IG9XcXoDfOWN",
        "outputId": "077afd11-06f8-4112-b5af-f961b4267188"
      },
      "source": [
        "%%shell\n",
        "jupyter nbconvert --to html '/content/Loan_Status_Classifier.ipynb'"
      ],
      "execution_count": 65,
      "outputs": [
        {
          "output_type": "stream",
          "text": [
            "[NbConvertApp] WARNING | pattern u'/content/Loan_Status_Classifier.ipynb' matched no files\n",
            "This application is used to convert notebook files (*.ipynb) to various other\n",
            "formats.\n",
            "\n",
            "WARNING: THE COMMANDLINE INTERFACE MAY CHANGE IN FUTURE RELEASES.\n",
            "\n",
            "Options\n",
            "-------\n",
            "\n",
            "Arguments that take values are actually convenience aliases to full\n",
            "Configurables, whose aliases are listed on the help line. For more information\n",
            "on full configurables, see '--help-all'.\n",
            "\n",
            "--execute\n",
            "    Execute the notebook prior to export.\n",
            "--allow-errors\n",
            "    Continue notebook execution even if one of the cells throws an error and include the error message in the cell output (the default behaviour is to abort conversion). This flag is only relevant if '--execute' was specified, too.\n",
            "--no-input\n",
            "    Exclude input cells and output prompts from converted document. \n",
            "    This mode is ideal for generating code-free reports.\n",
            "--stdout\n",
            "    Write notebook output to stdout instead of files.\n",
            "--stdin\n",
            "    read a single notebook file from stdin. Write the resulting notebook with default basename 'notebook.*'\n",
            "--inplace\n",
            "    Run nbconvert in place, overwriting the existing notebook (only \n",
            "    relevant when converting to notebook format)\n",
            "-y\n",
            "    Answer yes to any questions instead of prompting.\n",
            "--clear-output\n",
            "    Clear output of current file and save in place, \n",
            "    overwriting the existing notebook.\n",
            "--debug\n",
            "    set log level to logging.DEBUG (maximize logging output)\n",
            "--no-prompt\n",
            "    Exclude input and output prompts from converted document.\n",
            "--generate-config\n",
            "    generate default config file\n",
            "--nbformat=<Enum> (NotebookExporter.nbformat_version)\n",
            "    Default: 4\n",
            "    Choices: [1, 2, 3, 4]\n",
            "    The nbformat version to write. Use this to downgrade notebooks.\n",
            "--output-dir=<Unicode> (FilesWriter.build_directory)\n",
            "    Default: ''\n",
            "    Directory to write output(s) to. Defaults to output to the directory of each\n",
            "    notebook. To recover previous default behaviour (outputting to the current\n",
            "    working directory) use . as the flag value.\n",
            "--writer=<DottedObjectName> (NbConvertApp.writer_class)\n",
            "    Default: 'FilesWriter'\n",
            "    Writer class used to write the  results of the conversion\n",
            "--log-level=<Enum> (Application.log_level)\n",
            "    Default: 30\n",
            "    Choices: (0, 10, 20, 30, 40, 50, 'DEBUG', 'INFO', 'WARN', 'ERROR', 'CRITICAL')\n",
            "    Set the log level by value or name.\n",
            "--reveal-prefix=<Unicode> (SlidesExporter.reveal_url_prefix)\n",
            "    Default: u''\n",
            "    The URL prefix for reveal.js (version 3.x). This defaults to the reveal CDN,\n",
            "    but can be any url pointing to a copy  of reveal.js.\n",
            "    For speaker notes to work, this must be a relative path to a local  copy of\n",
            "    reveal.js: e.g., \"reveal.js\".\n",
            "    If a relative path is given, it must be a subdirectory of the current\n",
            "    directory (from which the server is run).\n",
            "    See the usage documentation\n",
            "    (https://nbconvert.readthedocs.io/en/latest/usage.html#reveal-js-html-\n",
            "    slideshow) for more details.\n",
            "--to=<Unicode> (NbConvertApp.export_format)\n",
            "    Default: 'html'\n",
            "    The export format to be used, either one of the built-in formats\n",
            "    ['asciidoc', 'custom', 'html', 'latex', 'markdown', 'notebook', 'pdf',\n",
            "    'python', 'rst', 'script', 'slides'] or a dotted object name that represents\n",
            "    the import path for an `Exporter` class\n",
            "--template=<Unicode> (TemplateExporter.template_file)\n",
            "    Default: u''\n",
            "    Name of the template file to use\n",
            "--output=<Unicode> (NbConvertApp.output_base)\n",
            "    Default: ''\n",
            "    overwrite base name use for output files. can only be used when converting\n",
            "    one notebook at a time.\n",
            "--post=<DottedOrNone> (NbConvertApp.postprocessor_class)\n",
            "    Default: u''\n",
            "    PostProcessor class used to write the results of the conversion\n",
            "--config=<Unicode> (JupyterApp.config_file)\n",
            "    Default: u''\n",
            "    Full path of a config file.\n",
            "\n",
            "To see all available configurables, use `--help-all`\n",
            "\n",
            "Examples\n",
            "--------\n",
            "\n",
            "    The simplest way to use nbconvert is\n",
            "    \n",
            "    > jupyter nbconvert mynotebook.ipynb\n",
            "    \n",
            "    which will convert mynotebook.ipynb to the default format (probably HTML).\n",
            "    \n",
            "    You can specify the export format with `--to`.\n",
            "    Options include ['asciidoc', 'custom', 'html', 'latex', 'markdown', 'notebook', 'pdf', 'python', 'rst', 'script', 'slides'].\n",
            "    \n",
            "    > jupyter nbconvert --to latex mynotebook.ipynb\n",
            "    \n",
            "    Both HTML and LaTeX support multiple output templates. LaTeX includes\n",
            "    'base', 'article' and 'report'.  HTML includes 'basic' and 'full'. You\n",
            "    can specify the flavor of the format used.\n",
            "    \n",
            "    > jupyter nbconvert --to html --template basic mynotebook.ipynb\n",
            "    \n",
            "    You can also pipe the output to stdout, rather than a file\n",
            "    \n",
            "    > jupyter nbconvert mynotebook.ipynb --stdout\n",
            "    \n",
            "    PDF is generated via latex\n",
            "    \n",
            "    > jupyter nbconvert mynotebook.ipynb --to pdf\n",
            "    \n",
            "    You can get (and serve) a Reveal.js-powered slideshow\n",
            "    \n",
            "    > jupyter nbconvert myslides.ipynb --to slides --post serve\n",
            "    \n",
            "    Multiple notebooks can be given at the command line in a couple of \n",
            "    different ways:\n",
            "    \n",
            "    > jupyter nbconvert notebook*.ipynb\n",
            "    > jupyter nbconvert notebook1.ipynb notebook2.ipynb\n",
            "    \n",
            "    or you can specify the notebooks list in a config file, containing::\n",
            "    \n",
            "        c.NbConvertApp.notebooks = [\"my_notebook.ipynb\"]\n",
            "    \n",
            "    > jupyter nbconvert --config mycfg.py\n",
            "\n"
          ],
          "name": "stdout"
        },
        {
          "output_type": "error",
          "ename": "CalledProcessError",
          "evalue": "ignored",
          "traceback": [
            "\u001b[0;31m---------------------------------------------------------------------------\u001b[0m",
            "\u001b[0;31mCalledProcessError\u001b[0m                        Traceback (most recent call last)",
            "\u001b[0;32m<ipython-input-65-c9fa7fffe892>\u001b[0m in \u001b[0;36m<module>\u001b[0;34m()\u001b[0m\n\u001b[0;32m----> 1\u001b[0;31m \u001b[0mget_ipython\u001b[0m\u001b[0;34m(\u001b[0m\u001b[0;34m)\u001b[0m\u001b[0;34m.\u001b[0m\u001b[0mrun_cell_magic\u001b[0m\u001b[0;34m(\u001b[0m\u001b[0;34m'shell'\u001b[0m\u001b[0;34m,\u001b[0m \u001b[0;34m''\u001b[0m\u001b[0;34m,\u001b[0m \u001b[0;34m\"jupyter nbconvert --to html '/content/Loan_Status_Classifier.ipynb'\"\u001b[0m\u001b[0;34m)\u001b[0m\u001b[0;34m\u001b[0m\u001b[0;34m\u001b[0m\u001b[0m\n\u001b[0m",
            "\u001b[0;32m/usr/local/lib/python3.7/dist-packages/IPython/core/interactiveshell.py\u001b[0m in \u001b[0;36mrun_cell_magic\u001b[0;34m(self, magic_name, line, cell)\u001b[0m\n\u001b[1;32m   2115\u001b[0m             \u001b[0mmagic_arg_s\u001b[0m \u001b[0;34m=\u001b[0m \u001b[0mself\u001b[0m\u001b[0;34m.\u001b[0m\u001b[0mvar_expand\u001b[0m\u001b[0;34m(\u001b[0m\u001b[0mline\u001b[0m\u001b[0;34m,\u001b[0m \u001b[0mstack_depth\u001b[0m\u001b[0;34m)\u001b[0m\u001b[0;34m\u001b[0m\u001b[0;34m\u001b[0m\u001b[0m\n\u001b[1;32m   2116\u001b[0m             \u001b[0;32mwith\u001b[0m \u001b[0mself\u001b[0m\u001b[0;34m.\u001b[0m\u001b[0mbuiltin_trap\u001b[0m\u001b[0;34m:\u001b[0m\u001b[0;34m\u001b[0m\u001b[0;34m\u001b[0m\u001b[0m\n\u001b[0;32m-> 2117\u001b[0;31m                 \u001b[0mresult\u001b[0m \u001b[0;34m=\u001b[0m \u001b[0mfn\u001b[0m\u001b[0;34m(\u001b[0m\u001b[0mmagic_arg_s\u001b[0m\u001b[0;34m,\u001b[0m \u001b[0mcell\u001b[0m\u001b[0;34m)\u001b[0m\u001b[0;34m\u001b[0m\u001b[0;34m\u001b[0m\u001b[0m\n\u001b[0m\u001b[1;32m   2118\u001b[0m             \u001b[0;32mreturn\u001b[0m \u001b[0mresult\u001b[0m\u001b[0;34m\u001b[0m\u001b[0;34m\u001b[0m\u001b[0m\n\u001b[1;32m   2119\u001b[0m \u001b[0;34m\u001b[0m\u001b[0m\n",
            "\u001b[0;32m/usr/local/lib/python3.7/dist-packages/google/colab/_system_commands.py\u001b[0m in \u001b[0;36m_shell_cell_magic\u001b[0;34m(args, cmd)\u001b[0m\n\u001b[1;32m    111\u001b[0m   \u001b[0mresult\u001b[0m \u001b[0;34m=\u001b[0m \u001b[0m_run_command\u001b[0m\u001b[0;34m(\u001b[0m\u001b[0mcmd\u001b[0m\u001b[0;34m,\u001b[0m \u001b[0mclear_streamed_output\u001b[0m\u001b[0;34m=\u001b[0m\u001b[0;32mFalse\u001b[0m\u001b[0;34m)\u001b[0m\u001b[0;34m\u001b[0m\u001b[0;34m\u001b[0m\u001b[0m\n\u001b[1;32m    112\u001b[0m   \u001b[0;32mif\u001b[0m \u001b[0;32mnot\u001b[0m \u001b[0mparsed_args\u001b[0m\u001b[0;34m.\u001b[0m\u001b[0mignore_errors\u001b[0m\u001b[0;34m:\u001b[0m\u001b[0;34m\u001b[0m\u001b[0;34m\u001b[0m\u001b[0m\n\u001b[0;32m--> 113\u001b[0;31m     \u001b[0mresult\u001b[0m\u001b[0;34m.\u001b[0m\u001b[0mcheck_returncode\u001b[0m\u001b[0;34m(\u001b[0m\u001b[0;34m)\u001b[0m\u001b[0;34m\u001b[0m\u001b[0;34m\u001b[0m\u001b[0m\n\u001b[0m\u001b[1;32m    114\u001b[0m   \u001b[0;32mreturn\u001b[0m \u001b[0mresult\u001b[0m\u001b[0;34m\u001b[0m\u001b[0;34m\u001b[0m\u001b[0m\n\u001b[1;32m    115\u001b[0m \u001b[0;34m\u001b[0m\u001b[0m\n",
            "\u001b[0;32m/usr/local/lib/python3.7/dist-packages/google/colab/_system_commands.py\u001b[0m in \u001b[0;36mcheck_returncode\u001b[0;34m(self)\u001b[0m\n\u001b[1;32m    137\u001b[0m     \u001b[0;32mif\u001b[0m \u001b[0mself\u001b[0m\u001b[0;34m.\u001b[0m\u001b[0mreturncode\u001b[0m\u001b[0;34m:\u001b[0m\u001b[0;34m\u001b[0m\u001b[0;34m\u001b[0m\u001b[0m\n\u001b[1;32m    138\u001b[0m       raise subprocess.CalledProcessError(\n\u001b[0;32m--> 139\u001b[0;31m           returncode=self.returncode, cmd=self.args, output=self.output)\n\u001b[0m\u001b[1;32m    140\u001b[0m \u001b[0;34m\u001b[0m\u001b[0m\n\u001b[1;32m    141\u001b[0m   \u001b[0;32mdef\u001b[0m \u001b[0m_repr_pretty_\u001b[0m\u001b[0;34m(\u001b[0m\u001b[0mself\u001b[0m\u001b[0;34m,\u001b[0m \u001b[0mp\u001b[0m\u001b[0;34m,\u001b[0m \u001b[0mcycle\u001b[0m\u001b[0;34m)\u001b[0m\u001b[0;34m:\u001b[0m  \u001b[0;31m# pylint:disable=unused-argument\u001b[0m\u001b[0;34m\u001b[0m\u001b[0;34m\u001b[0m\u001b[0m\n",
            "\u001b[0;31mCalledProcessError\u001b[0m: Command 'jupyter nbconvert --to html '/content/Loan_Status_Classifier.ipynb'' returned non-zero exit status 255."
          ]
        }
      ]
    },
    {
      "cell_type": "code",
      "metadata": {
        "id": "ROEYTjKDgTnP"
      },
      "source": [
        ""
      ],
      "execution_count": null,
      "outputs": []
    }
  ]
}